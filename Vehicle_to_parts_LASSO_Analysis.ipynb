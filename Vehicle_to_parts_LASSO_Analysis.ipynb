{
 "cells": [
  {
   "cell_type": "code",
   "id": "initial_id",
   "metadata": {
    "collapsed": true,
    "ExecuteTime": {
     "end_time": "2024-07-19T18:02:17.748878Z",
     "start_time": "2024-07-19T18:02:04.172739Z"
    }
   },
   "source": [
    "import StoredQueries\n",
    "import pandas as pd\n",
    "import numpy as np\n",
    "from sklearn.model_selection import train_test_split, cross_val_score\n",
    "from sklearn.linear_model import Lasso\n",
    "from sklearn.preprocessing import StandardScaler\n",
    "import DataframeBuilder\n",
    "import StoredQueries"
   ],
   "outputs": [],
   "execution_count": 1
  },
  {
   "metadata": {
    "ExecuteTime": {
     "end_time": "2024-07-19T18:03:14.034442Z",
     "start_time": "2024-07-19T18:02:17.749890Z"
    }
   },
   "cell_type": "code",
   "source": "vehicle_presence_df = DataframeBuilder.vehicle_presence(presence_type=\"binary\", feature_ratio=\"None\", vehicle_type=\"year_model\", target_type=\"TotalPartsSold\")",
   "id": "8285af8f27f3271b",
   "outputs": [],
   "execution_count": 2
  },
  {
   "metadata": {
    "ExecuteTime": {
     "end_time": "2024-07-19T18:03:14.050894Z",
     "start_time": "2024-07-19T18:03:14.035460Z"
    }
   },
   "cell_type": "code",
   "source": "vehicle_presence_df.shape",
   "id": "9392941841eb86a4",
   "outputs": [
    {
     "data": {
      "text/plain": [
       "(965, 6321)"
      ]
     },
     "execution_count": 3,
     "metadata": {},
     "output_type": "execute_result"
    }
   ],
   "execution_count": 3
  },
  {
   "metadata": {
    "ExecuteTime": {
     "end_time": "2024-07-19T18:03:14.066663Z",
     "start_time": "2024-07-19T18:03:14.052938Z"
    }
   },
   "cell_type": "code",
   "source": "print( vehicle_presence_df.isna().any(axis=1).sum())",
   "id": "cd8ae1983c5260aa",
   "outputs": [
    {
     "name": "stdout",
     "output_type": "stream",
     "text": [
      "0\n"
     ]
    }
   ],
   "execution_count": 4
  },
  {
   "metadata": {
    "ExecuteTime": {
     "end_time": "2024-07-19T18:03:14.081806Z",
     "start_time": "2024-07-19T18:03:14.068668Z"
    }
   },
   "cell_type": "code",
   "source": "vehicle_presence_df.columns = vehicle_presence_df.columns.astype(str)",
   "id": "2291fc6b21a2af8c",
   "outputs": [],
   "execution_count": 5
  },
  {
   "metadata": {
    "ExecuteTime": {
     "end_time": "2024-07-19T18:03:14.097562Z",
     "start_time": "2024-07-19T18:03:14.082787Z"
    }
   },
   "cell_type": "code",
   "source": "# vehicle_presence_df.head()",
   "id": "d16546e1b7ebe82f",
   "outputs": [],
   "execution_count": 6
  },
  {
   "metadata": {
    "ExecuteTime": {
     "end_time": "2024-07-19T18:03:14.249679Z",
     "start_time": "2024-07-19T18:03:14.099557Z"
    }
   },
   "cell_type": "code",
   "source": [
    "# Create the machine learning model steps here, including training and testing LR\n",
    "# Separating features and target\n",
    "X = vehicle_presence_df.drop(columns=['TotalPartsSold', 'Date'])\n",
    "y = vehicle_presence_df['TotalPartsSold']\n",
    "\n",
    "# Normalize the features\n",
    "scaler = StandardScaler()\n",
    "X_scaled = scaler.fit_transform(X)"
   ],
   "id": "cb5405f3d989a526",
   "outputs": [],
   "execution_count": 7
  },
  {
   "metadata": {
    "ExecuteTime": {
     "end_time": "2024-07-19T18:03:32.825136Z",
     "start_time": "2024-07-19T18:03:14.251369Z"
    }
   },
   "cell_type": "code",
   "source": [
    "# Split the data for training and testing\n",
    "X_train, X_test, y_train, y_test = train_test_split(X_scaled, y, test_size=0.2, random_state=42)\n",
    "\n",
    "# Initialize and fit the Lasso regression model\n",
    "lasso = Lasso(alpha=1)  # You may need to adjust alpha based on your data\n",
    "lasso.fit(X_train, y_train)\n",
    "\n",
    "# Evaluate the model using cross-validation\n",
    "cv_scores = cross_val_score(lasso, X_scaled, y, cv=20)\n",
    "print(\"Cross-validated scores:\", cv_scores)\n",
    "print(\"Average CV score:\", np.mean(cv_scores))\n",
    "print(\"Standard deviation of CV scores:\", np.std(cv_scores))"
   ],
   "id": "b1e83c6abf3f0339",
   "outputs": [
    {
     "name": "stdout",
     "output_type": "stream",
     "text": [
      "Cross-validated scores: [-12.31451965  -1.95686349  -1.04293957  -0.89014461  -0.28085745\n",
      "   0.04320292  -0.03727358  -0.58592607  -0.29679639  -0.12206784\n",
      "  -0.05744298   0.04594601  -0.47143828  -0.05259014  -0.10402237\n",
      "  -0.32348293  -0.49355713   0.04193589  -0.13401139  -0.34964719]\n",
      "Average CV score: -0.9691248132515616\n",
      "Standard deviation of CV scores: 2.6441693198351515\n"
     ]
    }
   ],
   "execution_count": 8
  },
  {
   "metadata": {
    "ExecuteTime": {
     "end_time": "2024-07-19T18:03:32.840892Z",
     "start_time": "2024-07-19T18:03:32.827135Z"
    }
   },
   "cell_type": "code",
   "source": [
    "# Get the coefficients from the Lasso model\n",
    "coef = lasso.coef_\n",
    "\n",
    "# Create a DataFrame for feature importance\n",
    "feature_importance = pd.DataFrame({'feature': X.columns, 'importance': coef})\n",
    "feature_importance = feature_importance.sort_values(by='importance', ascending=False)\n",
    "\n",
    "# Display the top features\n",
    "print(feature_importance.head(100))"
   ],
   "id": "4ea64e0f97409bfa",
   "outputs": [
    {
     "name": "stdout",
     "output_type": "stream",
     "text": [
      "                     feature  importance\n",
      "239            2000.0_SEPHIA    3.428193\n",
      "5801          2011.0_KIZASHI    3.111663\n",
      "5895           2008.0_S-TYPE    2.938090\n",
      "6266  2022.0_OUTLANDER SPORT    2.414517\n",
      "5974               2011.0_XD    2.406530\n",
      "...                      ...         ...\n",
      "84              1998.0_C1500   -0.000000\n",
      "85          2001.0_SILVERADO    0.000000\n",
      "86             1997.0_SIERRA   -0.000000\n",
      "87              1989.0_C1500    0.000000\n",
      "88           1997.0_SUBURBAN   -0.000000\n",
      "\n",
      "[100 rows x 2 columns]\n"
     ]
    }
   ],
   "execution_count": 9
  },
  {
   "metadata": {
    "ExecuteTime": {
     "end_time": "2024-07-19T18:03:32.856127Z",
     "start_time": "2024-07-19T18:03:32.842099Z"
    }
   },
   "cell_type": "code",
   "source": "feature_importance.shape",
   "id": "fac4ba3ddff91605",
   "outputs": [
    {
     "data": {
      "text/plain": [
       "(6319, 2)"
      ]
     },
     "execution_count": 10,
     "metadata": {},
     "output_type": "execute_result"
    }
   ],
   "execution_count": 10
  },
  {
   "metadata": {
    "ExecuteTime": {
     "end_time": "2024-07-19T18:03:32.872155Z",
     "start_time": "2024-07-19T18:03:32.857126Z"
    }
   },
   "cell_type": "code",
   "source": "",
   "id": "fa20fa708fb934c2",
   "outputs": [],
   "execution_count": 10
  }
 ],
 "metadata": {
  "kernelspec": {
   "display_name": "Python 3",
   "language": "python",
   "name": "python3"
  },
  "language_info": {
   "codemirror_mode": {
    "name": "ipython",
    "version": 2
   },
   "file_extension": ".py",
   "mimetype": "text/x-python",
   "name": "python",
   "nbconvert_exporter": "python",
   "pygments_lexer": "ipython2",
   "version": "2.7.6"
  }
 },
 "nbformat": 4,
 "nbformat_minor": 5
}
