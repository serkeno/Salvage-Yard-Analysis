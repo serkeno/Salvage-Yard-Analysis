{
 "cells": [
  {
   "cell_type": "code",
   "id": "initial_id",
   "metadata": {
    "collapsed": true,
    "ExecuteTime": {
     "end_time": "2024-07-18T05:45:35.291594Z",
     "start_time": "2024-07-18T05:45:34.468112Z"
    }
   },
   "source": [
    "import StoredQueries\n",
    "import pandas as pd\n",
    "import numpy as np\n",
    "from sklearn.model_selection import train_test_split, cross_val_score\n",
    "from sklearn.linear_model import Lasso\n",
    "from sklearn.preprocessing import StandardScaler"
   ],
   "outputs": [],
   "execution_count": 1
  },
  {
   "metadata": {
    "ExecuteTime": {
     "end_time": "2024-07-18T05:46:43.613136Z",
     "start_time": "2024-07-18T05:45:37.248405Z"
    }
   },
   "cell_type": "code",
   "source": "vehicle_presence_df = StoredQueries.vehicle_presence(presence_type=\"continuous\", feature_ratio=100, vehicle_type=\"year_model\")",
   "id": "8285af8f27f3271b",
   "outputs": [],
   "execution_count": 2
  },
  {
   "metadata": {
    "ExecuteTime": {
     "end_time": "2024-07-18T05:46:54.146275Z",
     "start_time": "2024-07-18T05:46:54.130277Z"
    }
   },
   "cell_type": "code",
   "source": "vehicle_presence_df.shape",
   "id": "9392941841eb86a4",
   "outputs": [
    {
     "data": {
      "text/plain": [
       "(965, 11)"
      ]
     },
     "execution_count": 3,
     "metadata": {},
     "output_type": "execute_result"
    }
   ],
   "execution_count": 3
  },
  {
   "metadata": {
    "ExecuteTime": {
     "end_time": "2024-07-18T05:46:58.702209Z",
     "start_time": "2024-07-18T05:46:58.698209Z"
    }
   },
   "cell_type": "code",
   "source": "print( vehicle_presence_df.isna().any(axis=1).sum())",
   "id": "cd8ae1983c5260aa",
   "outputs": [
    {
     "name": "stdout",
     "output_type": "stream",
     "text": [
      "0\n"
     ]
    }
   ],
   "execution_count": 4
  },
  {
   "metadata": {
    "ExecuteTime": {
     "end_time": "2024-07-18T05:47:03.569737Z",
     "start_time": "2024-07-18T05:47:03.556736Z"
    }
   },
   "cell_type": "code",
   "source": "vehicle_presence_df.columns = vehicle_presence_df.columns.astype(str)",
   "id": "2291fc6b21a2af8c",
   "outputs": [],
   "execution_count": 5
  },
  {
   "metadata": {
    "ExecuteTime": {
     "end_time": "2024-07-18T05:47:06.045572Z",
     "start_time": "2024-07-18T05:47:06.027025Z"
    }
   },
   "cell_type": "code",
   "source": "vehicle_presence_df.head()",
   "id": "d16546e1b7ebe82f",
   "outputs": [
    {
     "data": {
      "text/plain": [
       "           Date  TotalPartsSold  TotalPrice  2005.0_ALTIMA  2002.0_ACCORD  \\\n",
       "1414 2021-03-19            28.0      545.52             15              4   \n",
       "1415 2021-03-20            22.0      856.19             11              4   \n",
       "1417 2021-03-22            23.0      508.47             11              4   \n",
       "1418 2021-03-23            10.0      175.90             11              4   \n",
       "1419 2021-03-24            18.0      177.98             11              4   \n",
       "\n",
       "      2006.0_ALTIMA  1999.0_CAMRY  2000.0_ACCORD  1999.0_ACCORD  \\\n",
       "1414             10             5              4              8   \n",
       "1415             10             5              4              8   \n",
       "1417             10             5              4              8   \n",
       "1418             10             5              4              8   \n",
       "1419             10             5              4              8   \n",
       "\n",
       "      1998.0_ACCORD  2006.0_IMPALA  \n",
       "1414              5              1  \n",
       "1415              5              1  \n",
       "1417              5              1  \n",
       "1418              5              1  \n",
       "1419              5              1  "
      ],
      "text/html": [
       "<div>\n",
       "<style scoped>\n",
       "    .dataframe tbody tr th:only-of-type {\n",
       "        vertical-align: middle;\n",
       "    }\n",
       "\n",
       "    .dataframe tbody tr th {\n",
       "        vertical-align: top;\n",
       "    }\n",
       "\n",
       "    .dataframe thead th {\n",
       "        text-align: right;\n",
       "    }\n",
       "</style>\n",
       "<table border=\"1\" class=\"dataframe\">\n",
       "  <thead>\n",
       "    <tr style=\"text-align: right;\">\n",
       "      <th></th>\n",
       "      <th>Date</th>\n",
       "      <th>TotalPartsSold</th>\n",
       "      <th>TotalPrice</th>\n",
       "      <th>2005.0_ALTIMA</th>\n",
       "      <th>2002.0_ACCORD</th>\n",
       "      <th>2006.0_ALTIMA</th>\n",
       "      <th>1999.0_CAMRY</th>\n",
       "      <th>2000.0_ACCORD</th>\n",
       "      <th>1999.0_ACCORD</th>\n",
       "      <th>1998.0_ACCORD</th>\n",
       "      <th>2006.0_IMPALA</th>\n",
       "    </tr>\n",
       "  </thead>\n",
       "  <tbody>\n",
       "    <tr>\n",
       "      <th>1414</th>\n",
       "      <td>2021-03-19</td>\n",
       "      <td>28.0</td>\n",
       "      <td>545.52</td>\n",
       "      <td>15</td>\n",
       "      <td>4</td>\n",
       "      <td>10</td>\n",
       "      <td>5</td>\n",
       "      <td>4</td>\n",
       "      <td>8</td>\n",
       "      <td>5</td>\n",
       "      <td>1</td>\n",
       "    </tr>\n",
       "    <tr>\n",
       "      <th>1415</th>\n",
       "      <td>2021-03-20</td>\n",
       "      <td>22.0</td>\n",
       "      <td>856.19</td>\n",
       "      <td>11</td>\n",
       "      <td>4</td>\n",
       "      <td>10</td>\n",
       "      <td>5</td>\n",
       "      <td>4</td>\n",
       "      <td>8</td>\n",
       "      <td>5</td>\n",
       "      <td>1</td>\n",
       "    </tr>\n",
       "    <tr>\n",
       "      <th>1417</th>\n",
       "      <td>2021-03-22</td>\n",
       "      <td>23.0</td>\n",
       "      <td>508.47</td>\n",
       "      <td>11</td>\n",
       "      <td>4</td>\n",
       "      <td>10</td>\n",
       "      <td>5</td>\n",
       "      <td>4</td>\n",
       "      <td>8</td>\n",
       "      <td>5</td>\n",
       "      <td>1</td>\n",
       "    </tr>\n",
       "    <tr>\n",
       "      <th>1418</th>\n",
       "      <td>2021-03-23</td>\n",
       "      <td>10.0</td>\n",
       "      <td>175.90</td>\n",
       "      <td>11</td>\n",
       "      <td>4</td>\n",
       "      <td>10</td>\n",
       "      <td>5</td>\n",
       "      <td>4</td>\n",
       "      <td>8</td>\n",
       "      <td>5</td>\n",
       "      <td>1</td>\n",
       "    </tr>\n",
       "    <tr>\n",
       "      <th>1419</th>\n",
       "      <td>2021-03-24</td>\n",
       "      <td>18.0</td>\n",
       "      <td>177.98</td>\n",
       "      <td>11</td>\n",
       "      <td>4</td>\n",
       "      <td>10</td>\n",
       "      <td>5</td>\n",
       "      <td>4</td>\n",
       "      <td>8</td>\n",
       "      <td>5</td>\n",
       "      <td>1</td>\n",
       "    </tr>\n",
       "  </tbody>\n",
       "</table>\n",
       "</div>"
      ]
     },
     "execution_count": 6,
     "metadata": {},
     "output_type": "execute_result"
    }
   ],
   "execution_count": 6
  },
  {
   "metadata": {
    "ExecuteTime": {
     "end_time": "2024-07-18T05:47:31.447071Z",
     "start_time": "2024-07-18T05:47:31.425074Z"
    }
   },
   "cell_type": "code",
   "source": [
    "# Create the machine learning model steps here, including training and testing LR\n",
    "# Separating features and target\n",
    "X = vehicle_presence_df.drop(columns=['TotalPartsSold', 'TotalPrice', 'Date'])\n",
    "y = vehicle_presence_df['TotalPartsSold']\n",
    "\n",
    "# Normalize the features\n",
    "scaler = StandardScaler()\n",
    "X_scaled = scaler.fit_transform(X)"
   ],
   "id": "cb5405f3d989a526",
   "outputs": [],
   "execution_count": 8
  },
  {
   "metadata": {
    "ExecuteTime": {
     "end_time": "2024-07-18T05:47:32.108131Z",
     "start_time": "2024-07-18T05:47:32.060615Z"
    }
   },
   "cell_type": "code",
   "source": [
    "# Split the data for training and testing\n",
    "X_train, X_test, y_train, y_test = train_test_split(X_scaled, y, test_size=0.2, random_state=42)\n",
    "\n",
    "# Initialize and fit the Lasso regression model\n",
    "lasso = Lasso(alpha=1)  # You may need to adjust alpha based on your data\n",
    "lasso.fit(X_train, y_train)\n",
    "\n",
    "# Evaluate the model using cross-validation\n",
    "cv_scores = cross_val_score(lasso, X_scaled, y, cv=20)\n",
    "print(\"Cross-validated scores:\", cv_scores)\n",
    "print(\"Average CV score:\", np.mean(cv_scores))\n",
    "print(\"Standard deviation of CV scores:\", np.std(cv_scores))"
   ],
   "id": "b1e83c6abf3f0339",
   "outputs": [
    {
     "name": "stdout",
     "output_type": "stream",
     "text": [
      "Cross-validated scores: [-2.89354726e+01 -1.77244877e+01 -4.44438333e+00 -4.82202738e+00\n",
      " -1.64333867e+00 -1.06106095e+00 -7.43625706e-01 -2.30509607e+00\n",
      " -1.17002139e+00 -1.03397278e+00 -3.90886518e-01 -4.30030923e-01\n",
      "  1.06300591e-02 -1.83631944e-03 -1.45607053e+00 -1.43538105e+00\n",
      " -2.13435467e+00 -9.35176358e-01 -2.77339043e+00 -1.18097907e+00]\n",
      "Average CV score: -3.7305481172279906\n",
      "Standard deviation of CV scores: 6.882039589983511\n"
     ]
    }
   ],
   "execution_count": 9
  },
  {
   "metadata": {
    "ExecuteTime": {
     "end_time": "2024-07-18T05:47:34.588973Z",
     "start_time": "2024-07-18T05:47:34.568945Z"
    }
   },
   "cell_type": "code",
   "source": [
    "# Get the coefficients from the Lasso model\n",
    "coef = lasso.coef_\n",
    "\n",
    "# Create a DataFrame for feature importance\n",
    "feature_importance = pd.DataFrame({'feature': X.columns, 'importance': coef})\n",
    "feature_importance = feature_importance.sort_values(by='importance', ascending=False)\n",
    "\n",
    "# Display the top features\n",
    "print(feature_importance.head(100))"
   ],
   "id": "4ea64e0f97409bfa",
   "outputs": [
    {
     "name": "stdout",
     "output_type": "stream",
     "text": [
      "         feature  importance\n",
      "2  2006.0_ALTIMA    4.688834\n",
      "1  2002.0_ACCORD   -0.000000\n",
      "7  2006.0_IMPALA    0.000000\n",
      "3   1999.0_CAMRY   -2.128219\n",
      "6  1998.0_ACCORD   -5.448527\n",
      "4  2000.0_ACCORD   -6.746840\n",
      "5  1999.0_ACCORD   -8.760294\n",
      "0  2005.0_ALTIMA  -11.596995\n"
     ]
    }
   ],
   "execution_count": 10
  },
  {
   "metadata": {
    "ExecuteTime": {
     "end_time": "2024-07-18T05:47:41.267227Z",
     "start_time": "2024-07-18T05:47:41.248233Z"
    }
   },
   "cell_type": "code",
   "source": "feature_importance.shape",
   "id": "fac4ba3ddff91605",
   "outputs": [
    {
     "data": {
      "text/plain": [
       "(8, 2)"
      ]
     },
     "execution_count": 11,
     "metadata": {},
     "output_type": "execute_result"
    }
   ],
   "execution_count": 11
  },
  {
   "metadata": {},
   "cell_type": "code",
   "source": "",
   "id": "fa20fa708fb934c2",
   "outputs": [],
   "execution_count": null
  }
 ],
 "metadata": {
  "kernelspec": {
   "display_name": "Python 3",
   "language": "python",
   "name": "python3"
  },
  "language_info": {
   "codemirror_mode": {
    "name": "ipython",
    "version": 2
   },
   "file_extension": ".py",
   "mimetype": "text/x-python",
   "name": "python",
   "nbconvert_exporter": "python",
   "pygments_lexer": "ipython2",
   "version": "2.7.6"
  }
 },
 "nbformat": 4,
 "nbformat_minor": 5
}
