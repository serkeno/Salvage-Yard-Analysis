{
 "cells": [
  {
   "cell_type": "code",
   "id": "initial_id",
   "metadata": {
    "collapsed": true,
    "ExecuteTime": {
     "end_time": "2024-07-21T04:53:15.646426Z",
     "start_time": "2024-07-21T04:53:15.626395Z"
    }
   },
   "source": [
    "import pandas as pd\n",
    "import numpy as np\n",
    "from sklearn.model_selection import train_test_split, cross_val_score\n",
    "from sklearn.ensemble import RandomForestRegressor\n",
    "from sklearn.preprocessing import StandardScaler\n",
    "import DataframeBuilder"
   ],
   "outputs": [],
   "execution_count": 7
  },
  {
   "metadata": {},
   "cell_type": "code",
   "outputs": [],
   "execution_count": null,
   "source": [
    "target_type = \"TotalPrice\"\n",
    "presence_type = \"binary\""
   ],
   "id": "fbd41d0f2511fe3d"
  },
  {
   "metadata": {
    "ExecuteTime": {
     "end_time": "2024-07-21T04:54:19.727911Z",
     "start_time": "2024-07-21T04:53:15.647392Z"
    }
   },
   "cell_type": "code",
   "source": "vehicle_presence_df = DataframeBuilder.vehicle_presence(presence_type=presence_type, vehicle_type=\"year_model\", target_type=target_type)\n",
   "id": "8285af8f27f3271b",
   "outputs": [],
   "execution_count": 8
  },
  {
   "metadata": {
    "ExecuteTime": {
     "end_time": "2024-07-21T04:54:19.758692Z",
     "start_time": "2024-07-21T04:54:19.744696Z"
    }
   },
   "cell_type": "code",
   "source": "vehicle_presence_df.columns = vehicle_presence_df.columns.astype(str)",
   "id": "964fd3a5f8b60b52",
   "outputs": [],
   "execution_count": 10
  },
  {
   "metadata": {
    "ExecuteTime": {
     "end_time": "2024-07-21T04:54:19.884082Z",
     "start_time": "2024-07-21T04:54:19.759693Z"
    }
   },
   "cell_type": "code",
   "source": [
    "# Create the machine learning model steps here, including training and testing LR\n",
    "# Separating features and target\n",
    "X = vehicle_presence_df.drop(columns=[target_type, 'Date'])\n",
    "y = vehicle_presence_df[target_type]\n",
    "\n",
    "# Normalize the features\n",
    "scaler = StandardScaler()\n",
    "X_scaled = scaler.fit_transform(X)"
   ],
   "id": "cb5405f3d989a526",
   "outputs": [],
   "execution_count": 11
  },
  {
   "metadata": {
    "ExecuteTime": {
     "end_time": "2024-07-21T04:59:50.549420Z",
     "start_time": "2024-07-21T04:54:19.885968Z"
    }
   },
   "cell_type": "code",
   "source": [
    "# Split the data for training and testing\n",
    "X_train, X_test, y_train, y_test = train_test_split(X_scaled, y, test_size=0.2, random_state=42)\n",
    "\n",
    "# Initialize and fit the Lasso regression model\n",
    "random_forest = RandomForestRegressor(n_estimators=100, random_state=42)\n",
    "random_forest.fit(X_train, y_train)\n",
    "\n",
    "# Evaluate the model using cross-validation\n",
    "cv_scores = cross_val_score(random_forest, X_scaled, y, cv=10)\n",
    "print(\"Cross-validated scores:\", cv_scores)\n",
    "print(\"Average CV score:\", np.mean(cv_scores))\n",
    "print(\"Standard deviation of CV scores:\", np.std(cv_scores))"
   ],
   "id": "b1e83c6abf3f0339",
   "outputs": [
    {
     "name": "stdout",
     "output_type": "stream",
     "text": [
      "Cross-validated scores: [-5.3160005  -1.07274957 -0.08570933 -0.07632923 -0.13567944 -1.34222333\n",
      " -0.39337391  0.02394398 -0.31782145 -1.58635623]\n",
      "Average CV score: -1.0302299005946183\n",
      "Standard deviation of CV scores: 1.5298010981722503\n"
     ]
    }
   ],
   "execution_count": 12
  }
 ],
 "metadata": {
  "kernelspec": {
   "display_name": "Python 3",
   "language": "python",
   "name": "python3"
  },
  "language_info": {
   "codemirror_mode": {
    "name": "ipython",
    "version": 2
   },
   "file_extension": ".py",
   "mimetype": "text/x-python",
   "name": "python",
   "nbconvert_exporter": "python",
   "pygments_lexer": "ipython2",
   "version": "2.7.6"
  }
 },
 "nbformat": 4,
 "nbformat_minor": 5
}
