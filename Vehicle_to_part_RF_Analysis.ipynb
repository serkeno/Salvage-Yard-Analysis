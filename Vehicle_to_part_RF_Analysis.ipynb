{
 "cells": [
  {
   "cell_type": "code",
   "id": "initial_id",
   "metadata": {
    "collapsed": true,
    "ExecuteTime": {
     "end_time": "2024-07-25T06:16:03.218036Z",
     "start_time": "2024-07-25T06:16:03.214961Z"
    }
   },
   "source": [
    "import pandas as pd\n",
    "from sklearn.model_selection import train_test_split\n",
    "from sklearn.ensemble import RandomForestRegressor\n",
    "from sklearn.model_selection import GridSearchCV\n",
    "from sklearn.preprocessing import StandardScaler\n",
    "import DataframeBuilder"
   ],
   "execution_count": 8,
   "outputs": []
  },
  {
   "metadata": {
    "ExecuteTime": {
     "end_time": "2024-07-25T06:16:03.233552Z",
     "start_time": "2024-07-25T06:16:03.227539Z"
    }
   },
   "cell_type": "code",
   "source": [
    "target_type = \"TotalPartsSold\"\n",
    "presence_type = \"continuous\""
   ],
   "id": "fbd41d0f2511fe3d",
   "execution_count": 9,
   "outputs": []
  },
  {
   "metadata": {
    "ExecuteTime": {
     "end_time": "2024-07-25T06:18:47.507298Z",
     "start_time": "2024-07-25T06:16:03.234551Z"
    }
   },
   "cell_type": "code",
   "source": "vehicle_presence_df = DataframeBuilder.vehicle_presence(presence_type=presence_type, vehicle_type=\"year_model\", target_type=target_type)\n",
   "id": "8285af8f27f3271b",
   "execution_count": 10,
   "outputs": []
  },
  {
   "metadata": {
    "ExecuteTime": {
     "end_time": "2024-07-25T06:18:47.523155Z",
     "start_time": "2024-07-25T06:18:47.509650Z"
    }
   },
   "cell_type": "code",
   "source": "vehicle_presence_df.columns = vehicle_presence_df.columns.astype(str)",
   "id": "964fd3a5f8b60b52",
   "execution_count": 11,
   "outputs": []
  },
  {
   "metadata": {
    "ExecuteTime": {
     "end_time": "2024-07-25T06:18:47.775622Z",
     "start_time": "2024-07-25T06:18:47.525764Z"
    }
   },
   "cell_type": "code",
   "source": [
    "# Create the machine learning model steps here, including training and testing LR\n",
    "# Separating features and target\n",
    "X = vehicle_presence_df.drop(columns=[target_type, 'Date'])\n",
    "y = vehicle_presence_df[target_type]\n",
    "\n",
    "# Normalize the features\n",
    "scaler = StandardScaler()\n",
    "X_scaled = scaler.fit_transform(X)"
   ],
   "id": "cb5405f3d989a526",
   "execution_count": 12,
   "outputs": []
  },
  {
   "metadata": {
    "ExecuteTime": {
     "end_time": "2024-07-25T07:10:28.159792Z",
     "start_time": "2024-07-25T07:10:20.557425Z"
    }
   },
   "cell_type": "code",
   "source": [
    "# Split the data for training and testing\n",
    "X_train, X_test, y_train, y_test = train_test_split(X_scaled, y, test_size=0.2, random_state=42)\n",
    "\n",
    "# Initialize and fit the Lasso regression model\n",
    "random_forest = RandomForestRegressor()\n",
    "# Define the parameter grid\n",
    "param_grid = {\n",
    "    'n_estimators': [100, 200, 300],\n",
    "    'max_depth': [10, 20],\n",
    "    'max_features': ['log2'],\n",
    "    'min_samples_split': [10],\n",
    "    'min_samples_leaf': [4]\n",
    "}\n",
    "\n",
    "# Use GridSearchCV for tuning\n",
    "grid_search = GridSearchCV(estimator=random_forest, param_grid=param_grid, cv=5, scoring='neg_mean_absolute_percentage_error', return_train_score=True)\n",
    "grid_search.fit(X_train, y_train)\n",
    "\n",
    "# Get the results\n",
    "results = grid_search.cv_results_\n",
    "\n",
    "# Create a DataFrame to display results\n",
    "results_df = pd.DataFrame({\n",
    "    'n_estimators': results['param_n_estimators'],\n",
    "    'max_depth': results['param_max_depth'],\n",
    "    'max_features': results['param_max_features'],\n",
    "    'min_samples_split': results['param_min_samples_split'],\n",
    "    'min_samples_leaf': results['param_min_samples_leaf'],\n",
    "    'mean_test_score': results['mean_test_score'],\n",
    "    'std_test_score': results['std_test_score']\n",
    "})\n",
    "\n",
    "results_df.to_csv('RF_TotalPartsSold_Results.csv', index=False)"
   ],
   "id": "b1e83c6abf3f0339",
   "execution_count": 15,
   "outputs": []
  },
  {
   "metadata": {
    "ExecuteTime": {
     "end_time": "2024-07-25T07:26:20.848896Z",
     "start_time": "2024-07-25T07:24:53.954263Z"
    }
   },
   "cell_type": "code",
   "source": [
    "target_type = \"TotalPrice\"\n",
    "presence_type = \"continuous\"\n",
    "vehicle_presence_df = DataframeBuilder.vehicle_presence(presence_type=presence_type, vehicle_type=\"year_model\",\n",
    "                                                        target_type=target_type)\n",
    "\n",
    "vehicle_presence_df.columns = vehicle_presence_df.columns.astype(str)\n",
    "# Create the machine learning model steps here, including training and testing LR\n",
    "# Separating features and target\n",
    "X = vehicle_presence_df.drop(columns=[target_type, 'Date'])\n",
    "y = vehicle_presence_df[target_type]\n",
    "\n",
    "# Normalize the features\n",
    "scaler = StandardScaler()\n",
    "X_scaled = scaler.fit_transform(X)\n",
    "# Split the data for training and testing\n",
    "X_train, X_test, y_train, y_test = train_test_split(X_scaled, y, test_size=0.2, random_state=42)\n",
    "\n",
    "# Initialize and fit the Lasso regression model\n",
    "random_forest = RandomForestRegressor()\n",
    "# Define the parameter grid\n",
    "param_grid = {\n",
    "    'n_estimators': [100, 200, 300],\n",
    "    'max_depth': [10, 20, 30],\n",
    "    'max_features': ['log2'],\n",
    "    'min_samples_split': [5, 10],\n",
    "    'min_samples_leaf': [4]\n",
    "}\n",
    "\n",
    "# Use GridSearchCV for tuning\n",
    "grid_search = GridSearchCV(estimator=random_forest, param_grid=param_grid, cv=5,\n",
    "                           scoring='neg_mean_absolute_percentage_error', return_train_score=True)\n",
    "grid_search.fit(X_train, y_train)\n",
    "\n",
    "# Get the results\n",
    "results = grid_search.cv_results_\n",
    "\n",
    "# Create a DataFrame to display results\n",
    "results_df = pd.DataFrame({\n",
    "    'n_estimators': results['param_n_estimators'],\n",
    "    'max_depth': results['param_max_depth'],\n",
    "    'max_features': results['param_max_features'],\n",
    "    'min_samples_split': results['param_min_samples_split'],\n",
    "    'min_samples_leaf': results['param_min_samples_leaf'],\n",
    "    'mean_test_score': results['mean_test_score'],\n",
    "    'std_test_score': results['std_test_score']\n",
    "})\n",
    "\n",
    "results_df.to_csv('RF_TotalPrice_Results.csv', index=False)"
   ],
   "id": "c6db56ddc65b0108",
   "execution_count": 16,
   "outputs": []
  },
  {
   "metadata": {},
   "cell_type": "code",
   "execution_count": null,
   "source": "",
   "id": "490a9dae216c229c",
   "outputs": []
  }
 ],
 "metadata": {
  "kernelspec": {
   "display_name": "Python 3",
   "language": "python",
   "name": "python3"
  },
  "language_info": {
   "codemirror_mode": {
    "name": "ipython",
    "version": 2
   },
   "file_extension": ".py",
   "mimetype": "text/x-python",
   "name": "python",
   "nbconvert_exporter": "python",
   "pygments_lexer": "ipython2",
   "version": "2.7.6"
  }
 },
 "nbformat": 4,
 "nbformat_minor": 5
}
