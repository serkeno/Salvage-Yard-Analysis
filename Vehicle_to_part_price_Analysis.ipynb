{
 "cells": [
  {
   "cell_type": "code",
   "id": "initial_id",
   "metadata": {
    "collapsed": true,
    "ExecuteTime": {
     "end_time": "2024-07-16T17:45:10.873575Z",
     "start_time": "2024-07-16T17:45:09.912666Z"
    }
   },
   "source": [
    "import StoredQueries\n",
    "import pandas as pd\n",
    "import numpy as np\n",
    "from sklearn.model_selection import train_test_split, cross_val_score\n",
    "from sklearn.linear_model import Lasso\n",
    "from sklearn.preprocessing import StandardScaler\n",
    "\n",
    "# For visualization of quartile results\n",
    "import matplotlib.pyplot as plt"
   ],
   "execution_count": 5,
   "outputs": []
  },
  {
   "metadata": {
    "ExecuteTime": {
     "end_time": "2024-07-16T17:38:41.454259Z",
     "start_time": "2024-07-16T17:38:07.155108Z"
    }
   },
   "cell_type": "code",
   "source": "vehicle_presence_df = StoredQueries.vehicle_presence(presence_type=\"continuous\", feature_ratio=100, vehicle_type=\"year_model\", target_type=\"TotalPrice\")\n",
   "id": "8285af8f27f3271b",
   "execution_count": 2,
   "outputs": []
  },
  {
   "metadata": {
    "ExecuteTime": {
     "end_time": "2024-07-16T18:03:00.004367Z",
     "start_time": "2024-07-16T18:02:59.977509Z"
    }
   },
   "cell_type": "code",
   "source": "vehicle_presence_df.head()",
   "id": "d16546e1b7ebe82f",
   "execution_count": 14,
   "outputs": []
  },
  {
   "metadata": {
    "ExecuteTime": {
     "end_time": "2024-07-16T17:47:19.756968Z",
     "start_time": "2024-07-16T17:47:19.741952Z"
    }
   },
   "cell_type": "code",
   "source": [
    "# Create the machine learning model steps here, including training and testing LR\n",
    "# Separating features and target\n",
    "X = vehicle_presence_df.drop(columns=['TotalPrice', 'Date'])\n",
    "y = vehicle_presence_df['TotalPrice']\n",
    "\n",
    "# Normalize the features\n",
    "scaler = StandardScaler()\n",
    "X_scaled = scaler.fit_transform(X)"
   ],
   "id": "cb5405f3d989a526",
   "execution_count": 8,
   "outputs": []
  },
  {
   "metadata": {
    "ExecuteTime": {
     "end_time": "2024-07-16T17:50:32.438695Z",
     "start_time": "2024-07-16T17:50:32.400696Z"
    }
   },
   "cell_type": "code",
   "source": [
    "# Split the data for training and testing\n",
    "X_train, X_test, y_train, y_test = train_test_split(X_scaled, y, test_size=0.2, random_state=42)\n",
    "\n",
    "# Initialize and fit the Lasso regression model\n",
    "lasso = Lasso(alpha=0.1)  # You may need to adjust alpha based on your data\n",
    "lasso.fit(X_train, y_train)\n",
    "\n",
    "# Evaluate the model using cross-validation\n",
    "cv_scores = cross_val_score(lasso, X_scaled, y, cv=5)\n",
    "print(\"Cross-validated scores:\", cv_scores)\n",
    "print(\"Average CV score:\", np.mean(cv_scores))\n",
    "print(\"Standard deviation of CV scores:\", np.std(cv_scores))"
   ],
   "id": "b1e83c6abf3f0339",
   "execution_count": 10,
   "outputs": []
  },
  {
   "metadata": {
    "ExecuteTime": {
     "end_time": "2024-07-16T17:53:34.645458Z",
     "start_time": "2024-07-16T17:53:34.630565Z"
    }
   },
   "cell_type": "code",
   "source": [
    "# Get the coefficients from the Lasso model\n",
    "coef = lasso.coef_\n",
    "\n",
    "# Create a DataFrame for feature importance\n",
    "feature_importance = pd.DataFrame({'feature': X.columns, 'importance': coef})\n",
    "feature_importance = feature_importance.sort_values(by='importance', ascending=False)\n",
    "\n",
    "# Display the top features\n",
    "print(feature_importance.head(10))"
   ],
   "id": "4ea64e0f97409bfa",
   "execution_count": 11,
   "outputs": []
  }
 ],
 "metadata": {
  "kernelspec": {
   "display_name": "Python 3",
   "language": "python",
   "name": "python3"
  },
  "language_info": {
   "codemirror_mode": {
    "name": "ipython",
    "version": 2
   },
   "file_extension": ".py",
   "mimetype": "text/x-python",
   "name": "python",
   "nbconvert_exporter": "python",
   "pygments_lexer": "ipython2",
   "version": "2.7.6"
  }
 },
 "nbformat": 4,
 "nbformat_minor": 5
}
