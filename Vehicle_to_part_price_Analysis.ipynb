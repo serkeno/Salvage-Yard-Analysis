{
 "cells": [
  {
   "cell_type": "code",
   "id": "initial_id",
   "metadata": {
    "collapsed": true,
    "ExecuteTime": {
     "end_time": "2024-07-16T17:45:10.873575Z",
     "start_time": "2024-07-16T17:45:09.912666Z"
    }
   },
   "source": [
    "import StoredQueries\n",
    "import pandas as pd\n",
    "import numpy as np\n",
    "from sklearn.model_selection import train_test_split, cross_val_score\n",
    "from sklearn.linear_model import Lasso\n",
    "from sklearn.preprocessing import StandardScaler\n",
    "\n",
    "# For visualization of quartile results\n",
    "import matplotlib.pyplot as plt"
   ],
   "outputs": [],
   "execution_count": 5
  },
  {
   "metadata": {
    "ExecuteTime": {
     "end_time": "2024-07-16T17:38:41.454259Z",
     "start_time": "2024-07-16T17:38:07.155108Z"
    }
   },
   "cell_type": "code",
   "source": "vehicle_presence_df = StoredQueries.vehicle_presence(feature_ratio=100, vehicle_type=\"year_model\")\n",
   "id": "8285af8f27f3271b",
   "outputs": [],
   "execution_count": 2
  },
  {
   "metadata": {
    "ExecuteTime": {
     "end_time": "2024-07-16T18:03:00.004367Z",
     "start_time": "2024-07-16T18:02:59.977509Z"
    }
   },
   "cell_type": "code",
   "source": "vehicle_presence_df.head()",
   "id": "d16546e1b7ebe82f",
   "outputs": [
    {
     "data": {
      "text/plain": [
       "        Date  TotalPartsSold  2002.0_PT CRUISER  2006.0_ELANTRA  \\\n",
       "0 2017-05-05           570.0                  0               0   \n",
       "1 2017-05-06           891.0                  0               0   \n",
       "2 2017-05-07           844.0                  0               0   \n",
       "3 2017-05-08           606.0                  0               0   \n",
       "4 2017-05-09           632.0                  0               0   \n",
       "\n",
       "   1999.0_ACCORD  2005.0_ALTIMA  2001.0_ACCORD  2006.0_IMPALA  2000.0_ACCORD  \\\n",
       "0              0              0              0              0              0   \n",
       "1              0              0              0              0              0   \n",
       "2              0              0              0              0              0   \n",
       "3              0              0              0              0              0   \n",
       "4              0              0              0              0              0   \n",
       "\n",
       "   2003.0_ALTIMA  ...  2007.0_IMPALA  1999.0_COROLLA  1999.0_EXPEDITION  \\\n",
       "0              0  ...              0               0                  0   \n",
       "1              0  ...              0               0                  0   \n",
       "2              0  ...              0               0                  0   \n",
       "3              0  ...              0               0                  0   \n",
       "4              0  ...              0               0                  0   \n",
       "\n",
       "   2000.0_EXPEDITION  2005.0_PT CRUISER  2004.0_PT CRUISER  2004.0_IMPALA  \\\n",
       "0                  0                  0                  0              0   \n",
       "1                  0                  0                  0              0   \n",
       "2                  0                  0                  0              0   \n",
       "3                  0                  0                  0              0   \n",
       "4                  0                  0                  0              0   \n",
       "\n",
       "   2001.0_MUSTANG  2000.0_DURANGO  2006.0_ALTIMA  \n",
       "0               0               0              0  \n",
       "1               0               0              0  \n",
       "2               0               0              0  \n",
       "3               0               0              0  \n",
       "4               0               0              0  \n",
       "\n",
       "[5 rows x 28 columns]"
      ],
      "text/html": [
       "<div>\n",
       "<style scoped>\n",
       "    .dataframe tbody tr th:only-of-type {\n",
       "        vertical-align: middle;\n",
       "    }\n",
       "\n",
       "    .dataframe tbody tr th {\n",
       "        vertical-align: top;\n",
       "    }\n",
       "\n",
       "    .dataframe thead th {\n",
       "        text-align: right;\n",
       "    }\n",
       "</style>\n",
       "<table border=\"1\" class=\"dataframe\">\n",
       "  <thead>\n",
       "    <tr style=\"text-align: right;\">\n",
       "      <th></th>\n",
       "      <th>Date</th>\n",
       "      <th>TotalPartsSold</th>\n",
       "      <th>2002.0_PT CRUISER</th>\n",
       "      <th>2006.0_ELANTRA</th>\n",
       "      <th>1999.0_ACCORD</th>\n",
       "      <th>2005.0_ALTIMA</th>\n",
       "      <th>2001.0_ACCORD</th>\n",
       "      <th>2006.0_IMPALA</th>\n",
       "      <th>2000.0_ACCORD</th>\n",
       "      <th>2003.0_ALTIMA</th>\n",
       "      <th>...</th>\n",
       "      <th>2007.0_IMPALA</th>\n",
       "      <th>1999.0_COROLLA</th>\n",
       "      <th>1999.0_EXPEDITION</th>\n",
       "      <th>2000.0_EXPEDITION</th>\n",
       "      <th>2005.0_PT CRUISER</th>\n",
       "      <th>2004.0_PT CRUISER</th>\n",
       "      <th>2004.0_IMPALA</th>\n",
       "      <th>2001.0_MUSTANG</th>\n",
       "      <th>2000.0_DURANGO</th>\n",
       "      <th>2006.0_ALTIMA</th>\n",
       "    </tr>\n",
       "  </thead>\n",
       "  <tbody>\n",
       "    <tr>\n",
       "      <th>0</th>\n",
       "      <td>2017-05-05</td>\n",
       "      <td>570.0</td>\n",
       "      <td>0</td>\n",
       "      <td>0</td>\n",
       "      <td>0</td>\n",
       "      <td>0</td>\n",
       "      <td>0</td>\n",
       "      <td>0</td>\n",
       "      <td>0</td>\n",
       "      <td>0</td>\n",
       "      <td>...</td>\n",
       "      <td>0</td>\n",
       "      <td>0</td>\n",
       "      <td>0</td>\n",
       "      <td>0</td>\n",
       "      <td>0</td>\n",
       "      <td>0</td>\n",
       "      <td>0</td>\n",
       "      <td>0</td>\n",
       "      <td>0</td>\n",
       "      <td>0</td>\n",
       "    </tr>\n",
       "    <tr>\n",
       "      <th>1</th>\n",
       "      <td>2017-05-06</td>\n",
       "      <td>891.0</td>\n",
       "      <td>0</td>\n",
       "      <td>0</td>\n",
       "      <td>0</td>\n",
       "      <td>0</td>\n",
       "      <td>0</td>\n",
       "      <td>0</td>\n",
       "      <td>0</td>\n",
       "      <td>0</td>\n",
       "      <td>...</td>\n",
       "      <td>0</td>\n",
       "      <td>0</td>\n",
       "      <td>0</td>\n",
       "      <td>0</td>\n",
       "      <td>0</td>\n",
       "      <td>0</td>\n",
       "      <td>0</td>\n",
       "      <td>0</td>\n",
       "      <td>0</td>\n",
       "      <td>0</td>\n",
       "    </tr>\n",
       "    <tr>\n",
       "      <th>2</th>\n",
       "      <td>2017-05-07</td>\n",
       "      <td>844.0</td>\n",
       "      <td>0</td>\n",
       "      <td>0</td>\n",
       "      <td>0</td>\n",
       "      <td>0</td>\n",
       "      <td>0</td>\n",
       "      <td>0</td>\n",
       "      <td>0</td>\n",
       "      <td>0</td>\n",
       "      <td>...</td>\n",
       "      <td>0</td>\n",
       "      <td>0</td>\n",
       "      <td>0</td>\n",
       "      <td>0</td>\n",
       "      <td>0</td>\n",
       "      <td>0</td>\n",
       "      <td>0</td>\n",
       "      <td>0</td>\n",
       "      <td>0</td>\n",
       "      <td>0</td>\n",
       "    </tr>\n",
       "    <tr>\n",
       "      <th>3</th>\n",
       "      <td>2017-05-08</td>\n",
       "      <td>606.0</td>\n",
       "      <td>0</td>\n",
       "      <td>0</td>\n",
       "      <td>0</td>\n",
       "      <td>0</td>\n",
       "      <td>0</td>\n",
       "      <td>0</td>\n",
       "      <td>0</td>\n",
       "      <td>0</td>\n",
       "      <td>...</td>\n",
       "      <td>0</td>\n",
       "      <td>0</td>\n",
       "      <td>0</td>\n",
       "      <td>0</td>\n",
       "      <td>0</td>\n",
       "      <td>0</td>\n",
       "      <td>0</td>\n",
       "      <td>0</td>\n",
       "      <td>0</td>\n",
       "      <td>0</td>\n",
       "    </tr>\n",
       "    <tr>\n",
       "      <th>4</th>\n",
       "      <td>2017-05-09</td>\n",
       "      <td>632.0</td>\n",
       "      <td>0</td>\n",
       "      <td>0</td>\n",
       "      <td>0</td>\n",
       "      <td>0</td>\n",
       "      <td>0</td>\n",
       "      <td>0</td>\n",
       "      <td>0</td>\n",
       "      <td>0</td>\n",
       "      <td>...</td>\n",
       "      <td>0</td>\n",
       "      <td>0</td>\n",
       "      <td>0</td>\n",
       "      <td>0</td>\n",
       "      <td>0</td>\n",
       "      <td>0</td>\n",
       "      <td>0</td>\n",
       "      <td>0</td>\n",
       "      <td>0</td>\n",
       "      <td>0</td>\n",
       "    </tr>\n",
       "  </tbody>\n",
       "</table>\n",
       "<p>5 rows × 28 columns</p>\n",
       "</div>"
      ]
     },
     "execution_count": 14,
     "metadata": {},
     "output_type": "execute_result"
    }
   ],
   "execution_count": 14
  },
  {
   "metadata": {
    "ExecuteTime": {
     "end_time": "2024-07-16T17:47:19.756968Z",
     "start_time": "2024-07-16T17:47:19.741952Z"
    }
   },
   "cell_type": "code",
   "source": [
    "# Create the machine learning model steps here, including training and testing LR\n",
    "# Separating features and target\n",
    "X = vehicle_presence_df.drop(columns=['TotalPartsSold', 'Date'])\n",
    "y = vehicle_presence_df['TotalPartsSold']\n",
    "\n",
    "# Normalize the features\n",
    "scaler = StandardScaler()\n",
    "X_scaled = scaler.fit_transform(X)"
   ],
   "id": "cb5405f3d989a526",
   "outputs": [],
   "execution_count": 8
  },
  {
   "metadata": {
    "ExecuteTime": {
     "end_time": "2024-07-16T17:50:32.438695Z",
     "start_time": "2024-07-16T17:50:32.400696Z"
    }
   },
   "cell_type": "code",
   "source": [
    "# Split the data for training and testing\n",
    "X_train, X_test, y_train, y_test = train_test_split(X_scaled, y, test_size=0.2, random_state=42)\n",
    "\n",
    "# Initialize and fit the Lasso regression model\n",
    "lasso = Lasso(alpha=0.1)  # You may need to adjust alpha based on your data\n",
    "lasso.fit(X_train, y_train)\n",
    "\n",
    "# Evaluate the model using cross-validation\n",
    "cv_scores = cross_val_score(lasso, X_scaled, y, cv=5)\n",
    "print(\"Cross-validated scores:\", cv_scores)\n",
    "print(\"Average CV score:\", np.mean(cv_scores))\n",
    "print(\"Standard deviation of CV scores:\", np.std(cv_scores))"
   ],
   "id": "b1e83c6abf3f0339",
   "outputs": [
    {
     "name": "stdout",
     "output_type": "stream",
     "text": [
      "Cross-validated scores: [-0.5699087  -0.09047342 -0.19410732 -0.08908855 -0.11221085]\n",
      "Average CV score: -0.21115777078138903\n",
      "Standard deviation of CV scores: 0.1834388445184463\n"
     ]
    }
   ],
   "execution_count": 10
  },
  {
   "metadata": {
    "ExecuteTime": {
     "end_time": "2024-07-16T17:53:34.645458Z",
     "start_time": "2024-07-16T17:53:34.630565Z"
    }
   },
   "cell_type": "code",
   "source": [
    "# Get the coefficients from the Lasso model\n",
    "coef = lasso.coef_\n",
    "\n",
    "# Create a DataFrame for feature importance\n",
    "feature_importance = pd.DataFrame({'feature': X.columns, 'importance': coef})\n",
    "feature_importance = feature_importance.sort_values(by='importance', ascending=False)\n",
    "\n",
    "# Display the top features\n",
    "print(feature_importance.head(10))"
   ],
   "id": "4ea64e0f97409bfa",
   "outputs": [
    {
     "name": "stdout",
     "output_type": "stream",
     "text": [
      "              feature  importance\n",
      "16      2007.0_IMPALA   13.370693\n",
      "3       2005.0_ALTIMA   10.046902\n",
      "20  2005.0_PT CRUISER    9.416929\n",
      "14       2000.0_CIVIC    8.798968\n",
      "25      2006.0_ALTIMA    7.904442\n",
      "10  1999.0_RAM PICKUP    6.699431\n",
      "4       2001.0_ACCORD    5.741807\n",
      "24     2000.0_DURANGO    3.208137\n",
      "6       2000.0_ACCORD    2.887188\n",
      "12       1998.0_CAMRY    2.457479\n"
     ]
    }
   ],
   "execution_count": 11
  },
  {
   "metadata": {
    "ExecuteTime": {
     "end_time": "2024-07-16T17:57:30.697364Z",
     "start_time": "2024-07-16T17:57:30.670099Z"
    }
   },
   "cell_type": "code",
   "source": [
    "# Rank features and assign quartiles\n",
    "feature_importance['rank'] = feature_importance['importance'].rank(ascending=False)\n",
    "feature_importance['quartile'] = pd.qcut(feature_importance['rank'], q=4, labels=[1, 0.75, 0.5, 0.25])\n",
    "\n",
    "# Display the feature importance with quartiles\n",
    "print(feature_importance.head(100))"
   ],
   "id": "73269776ed1d50c2",
   "outputs": [
    {
     "name": "stdout",
     "output_type": "stream",
     "text": [
      "              feature  importance  rank quartile\n",
      "16      2007.0_IMPALA   13.370693   1.0     1.00\n",
      "3       2005.0_ALTIMA   10.046902   2.0     1.00\n",
      "20  2005.0_PT CRUISER    9.416929   3.0     1.00\n",
      "14       2000.0_CIVIC    8.798968   4.0     1.00\n",
      "25      2006.0_ALTIMA    7.904442   5.0     1.00\n",
      "10  1999.0_RAM PICKUP    6.699431   6.0     1.00\n",
      "4       2001.0_ACCORD    5.741807   7.0     1.00\n",
      "24     2000.0_DURANGO    3.208137   8.0     0.75\n",
      "6       2000.0_ACCORD    2.887188   9.0     0.75\n",
      "12       1998.0_CAMRY    2.457479  10.0     0.75\n",
      "18  1999.0_EXPEDITION    0.625270  11.0     0.75\n",
      "0   2002.0_PT CRUISER   -0.000000  12.0     0.75\n",
      "9       2005.0_IMPALA   -0.333265  13.0     0.75\n",
      "1      2006.0_ELANTRA   -0.592975  14.0     0.50\n",
      "23     2001.0_MUSTANG   -0.717004  15.0     0.50\n",
      "8        1999.0_CAMRY   -0.932154  16.0     0.50\n",
      "5       2006.0_IMPALA   -1.043839  17.0     0.50\n",
      "15    2002.0_S SERIES   -1.504037  18.0     0.50\n",
      "21  2004.0_PT CRUISER   -1.589403  19.0     0.50\n",
      "19  2000.0_EXPEDITION   -2.423363  20.0     0.25\n",
      "13       2001.0_CIVIC   -2.452229  21.0     0.25\n",
      "17     1999.0_COROLLA   -3.689047  22.0     0.25\n",
      "22      2004.0_IMPALA   -4.499938  23.0     0.25\n",
      "11       1998.0_CIVIC   -9.003256  24.0     0.25\n",
      "2       1999.0_ACCORD  -11.232446  25.0     0.25\n",
      "7       2003.0_ALTIMA  -17.074944  26.0     0.25\n"
     ]
    }
   ],
   "execution_count": 13
  },
  {
   "metadata": {},
   "cell_type": "code",
   "outputs": [],
   "execution_count": null,
   "source": "",
   "id": "fa20fa708fb934c2"
  }
 ],
 "metadata": {
  "kernelspec": {
   "display_name": "Python 3",
   "language": "python",
   "name": "python3"
  },
  "language_info": {
   "codemirror_mode": {
    "name": "ipython",
    "version": 2
   },
   "file_extension": ".py",
   "mimetype": "text/x-python",
   "name": "python",
   "nbconvert_exporter": "python",
   "pygments_lexer": "ipython2",
   "version": "2.7.6"
  }
 },
 "nbformat": 4,
 "nbformat_minor": 5
}
