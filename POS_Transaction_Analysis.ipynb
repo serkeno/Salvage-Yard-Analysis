{
 "cells": [
  {
   "cell_type": "code",
   "id": "initial_id",
   "metadata": {
    "collapsed": true,
    "ExecuteTime": {
     "end_time": "2024-08-06T05:32:51.950533Z",
     "start_time": "2024-08-06T05:32:51.659693Z"
    }
   },
   "source": "from StoredQueries import POS_transactions",
   "outputs": [],
   "execution_count": 1
  },
  {
   "metadata": {
    "ExecuteTime": {
     "end_time": "2024-08-06T05:32:53.510402Z",
     "start_time": "2024-08-06T05:32:51.955519Z"
    }
   },
   "cell_type": "code",
   "source": "POS_df = POS_transactions()",
   "id": "9775574f51d29c17",
   "outputs": [],
   "execution_count": 2
  },
  {
   "metadata": {
    "ExecuteTime": {
     "end_time": "2024-08-06T05:32:53.526397Z",
     "start_time": "2024-08-06T05:32:53.511398Z"
    }
   },
   "cell_type": "code",
   "source": [
    "# Create list of all transactions grouped by each transaction\n",
    "POS_df.head()"
   ],
   "id": "5140ae836134906a",
   "outputs": [
    {
     "data": {
      "text/plain": [
       "   PartRno     PartId            PartName  LineItemID  TransactionID  Seq  \\\n",
       "0      202  P70831298           TAIL GATE           3              2    1   \n",
       "1      122  I70831252  SEAT BUCKET MANUAL           4              3    1   \n",
       "2       75  E70831154                COIL           5              4    1   \n",
       "3      125  I70831255    SEAT BELT (EACH)           6              5    1   \n",
       "4       10  A70831176           CAM SHAFT           7              6    1   \n",
       "\n",
       "   PartRno  PartPriceRno  Qty PartMeasureQty UnitPrice ExtPrice  \\\n",
       "0      202         202.0    1          1.000   29.9900  29.9900   \n",
       "1      122         122.0    2          1.000   15.9900  31.9800   \n",
       "2       75          75.0    1          1.000    4.9900   4.9900   \n",
       "3      125         125.0    2          1.000    5.9900  11.9800   \n",
       "4       10          10.0    1          1.000   15.9900  15.9900   \n",
       "\n",
       "                  CreDtTm  \n",
       "0 2021-03-19 09:51:01.643  \n",
       "1 2021-03-19 10:02:09.660  \n",
       "2 2021-03-19 10:07:59.860  \n",
       "3 2021-03-19 11:04:12.900  \n",
       "4 2021-03-19 11:05:31.170  "
      ],
      "text/html": [
       "<div>\n",
       "<style scoped>\n",
       "    .dataframe tbody tr th:only-of-type {\n",
       "        vertical-align: middle;\n",
       "    }\n",
       "\n",
       "    .dataframe tbody tr th {\n",
       "        vertical-align: top;\n",
       "    }\n",
       "\n",
       "    .dataframe thead th {\n",
       "        text-align: right;\n",
       "    }\n",
       "</style>\n",
       "<table border=\"1\" class=\"dataframe\">\n",
       "  <thead>\n",
       "    <tr style=\"text-align: right;\">\n",
       "      <th></th>\n",
       "      <th>PartRno</th>\n",
       "      <th>PartId</th>\n",
       "      <th>PartName</th>\n",
       "      <th>LineItemID</th>\n",
       "      <th>TransactionID</th>\n",
       "      <th>Seq</th>\n",
       "      <th>PartRno</th>\n",
       "      <th>PartPriceRno</th>\n",
       "      <th>Qty</th>\n",
       "      <th>PartMeasureQty</th>\n",
       "      <th>UnitPrice</th>\n",
       "      <th>ExtPrice</th>\n",
       "      <th>CreDtTm</th>\n",
       "    </tr>\n",
       "  </thead>\n",
       "  <tbody>\n",
       "    <tr>\n",
       "      <th>0</th>\n",
       "      <td>202</td>\n",
       "      <td>P70831298</td>\n",
       "      <td>TAIL GATE</td>\n",
       "      <td>3</td>\n",
       "      <td>2</td>\n",
       "      <td>1</td>\n",
       "      <td>202</td>\n",
       "      <td>202.0</td>\n",
       "      <td>1</td>\n",
       "      <td>1.000</td>\n",
       "      <td>29.9900</td>\n",
       "      <td>29.9900</td>\n",
       "      <td>2021-03-19 09:51:01.643</td>\n",
       "    </tr>\n",
       "    <tr>\n",
       "      <th>1</th>\n",
       "      <td>122</td>\n",
       "      <td>I70831252</td>\n",
       "      <td>SEAT BUCKET MANUAL</td>\n",
       "      <td>4</td>\n",
       "      <td>3</td>\n",
       "      <td>1</td>\n",
       "      <td>122</td>\n",
       "      <td>122.0</td>\n",
       "      <td>2</td>\n",
       "      <td>1.000</td>\n",
       "      <td>15.9900</td>\n",
       "      <td>31.9800</td>\n",
       "      <td>2021-03-19 10:02:09.660</td>\n",
       "    </tr>\n",
       "    <tr>\n",
       "      <th>2</th>\n",
       "      <td>75</td>\n",
       "      <td>E70831154</td>\n",
       "      <td>COIL</td>\n",
       "      <td>5</td>\n",
       "      <td>4</td>\n",
       "      <td>1</td>\n",
       "      <td>75</td>\n",
       "      <td>75.0</td>\n",
       "      <td>1</td>\n",
       "      <td>1.000</td>\n",
       "      <td>4.9900</td>\n",
       "      <td>4.9900</td>\n",
       "      <td>2021-03-19 10:07:59.860</td>\n",
       "    </tr>\n",
       "    <tr>\n",
       "      <th>3</th>\n",
       "      <td>125</td>\n",
       "      <td>I70831255</td>\n",
       "      <td>SEAT BELT (EACH)</td>\n",
       "      <td>6</td>\n",
       "      <td>5</td>\n",
       "      <td>1</td>\n",
       "      <td>125</td>\n",
       "      <td>125.0</td>\n",
       "      <td>2</td>\n",
       "      <td>1.000</td>\n",
       "      <td>5.9900</td>\n",
       "      <td>11.9800</td>\n",
       "      <td>2021-03-19 11:04:12.900</td>\n",
       "    </tr>\n",
       "    <tr>\n",
       "      <th>4</th>\n",
       "      <td>10</td>\n",
       "      <td>A70831176</td>\n",
       "      <td>CAM SHAFT</td>\n",
       "      <td>7</td>\n",
       "      <td>6</td>\n",
       "      <td>1</td>\n",
       "      <td>10</td>\n",
       "      <td>10.0</td>\n",
       "      <td>1</td>\n",
       "      <td>1.000</td>\n",
       "      <td>15.9900</td>\n",
       "      <td>15.9900</td>\n",
       "      <td>2021-03-19 11:05:31.170</td>\n",
       "    </tr>\n",
       "  </tbody>\n",
       "</table>\n",
       "</div>"
      ]
     },
     "execution_count": 3,
     "metadata": {},
     "output_type": "execute_result"
    }
   ],
   "execution_count": 3
  },
  {
   "metadata": {
    "ExecuteTime": {
     "end_time": "2024-08-06T05:32:54.577204Z",
     "start_time": "2024-08-06T05:32:53.527398Z"
    }
   },
   "cell_type": "code",
   "source": [
    "# Grouping the data by 'TransactionID' and aggregating the 'PartName' into a list\n",
    "grouped_df = POS_df.groupby('TransactionID')['PartName'].apply(list).reset_index()\n",
    "\n",
    "# Renaming the columns\n",
    "grouped_df.columns = ['TransactionID', 'PartNames']\n",
    "\n"
   ],
   "id": "1fbaa5a89e33ec35",
   "outputs": [],
   "execution_count": 4
  },
  {
   "metadata": {
    "ExecuteTime": {
     "end_time": "2024-08-06T05:32:54.592469Z",
     "start_time": "2024-08-06T05:32:54.580101Z"
    }
   },
   "cell_type": "code",
   "source": "grouped_df.head(20)",
   "id": "efb07ac6951ab392",
   "outputs": [
    {
     "data": {
      "text/plain": [
       "    TransactionID                                          PartNames\n",
       "0               2                                        [TAIL GATE]\n",
       "1               3                               [SEAT BUCKET MANUAL]\n",
       "2               4                                             [COIL]\n",
       "3               5                                 [SEAT BELT (EACH)]\n",
       "4               6                                        [CAM SHAFT]\n",
       "5               7                              [CONSOLE LID, CARPET]\n",
       "6               8                           [RACK AND PINION MANUAL]\n",
       "7               9                                             [COIL]\n",
       "8              10                                       [WATER PUMP]\n",
       "9              11                     [THROTTLE BODY, COIL, STARTER]\n",
       "10             12                         [SPOILER, INSTRUMENT LENS]\n",
       "11             13                                        [FUEL PUMP]\n",
       "12             14                         [BUMPER  STEEL, GRILL ANY]\n",
       "13             15  [HOOD, SEAT SECTION CLOTH, BRAKE SHOE/PAD (EAC...\n",
       "14             16                              [HUB CAP/WHEEL COVER]\n",
       "15             17                          [ENGINE (NO ACCESSORIES)]\n",
       "16             18  [HEADLAMP BEZEL, HEADLAMP COMPOSITE, COMPUTER ...\n",
       "17             19                                       [WATER PUMP]\n",
       "18             20                       [TRANSFER CASE, TIE ROD END]\n",
       "19             21                                            [LATCH]"
      ],
      "text/html": [
       "<div>\n",
       "<style scoped>\n",
       "    .dataframe tbody tr th:only-of-type {\n",
       "        vertical-align: middle;\n",
       "    }\n",
       "\n",
       "    .dataframe tbody tr th {\n",
       "        vertical-align: top;\n",
       "    }\n",
       "\n",
       "    .dataframe thead th {\n",
       "        text-align: right;\n",
       "    }\n",
       "</style>\n",
       "<table border=\"1\" class=\"dataframe\">\n",
       "  <thead>\n",
       "    <tr style=\"text-align: right;\">\n",
       "      <th></th>\n",
       "      <th>TransactionID</th>\n",
       "      <th>PartNames</th>\n",
       "    </tr>\n",
       "  </thead>\n",
       "  <tbody>\n",
       "    <tr>\n",
       "      <th>0</th>\n",
       "      <td>2</td>\n",
       "      <td>[TAIL GATE]</td>\n",
       "    </tr>\n",
       "    <tr>\n",
       "      <th>1</th>\n",
       "      <td>3</td>\n",
       "      <td>[SEAT BUCKET MANUAL]</td>\n",
       "    </tr>\n",
       "    <tr>\n",
       "      <th>2</th>\n",
       "      <td>4</td>\n",
       "      <td>[COIL]</td>\n",
       "    </tr>\n",
       "    <tr>\n",
       "      <th>3</th>\n",
       "      <td>5</td>\n",
       "      <td>[SEAT BELT (EACH)]</td>\n",
       "    </tr>\n",
       "    <tr>\n",
       "      <th>4</th>\n",
       "      <td>6</td>\n",
       "      <td>[CAM SHAFT]</td>\n",
       "    </tr>\n",
       "    <tr>\n",
       "      <th>5</th>\n",
       "      <td>7</td>\n",
       "      <td>[CONSOLE LID, CARPET]</td>\n",
       "    </tr>\n",
       "    <tr>\n",
       "      <th>6</th>\n",
       "      <td>8</td>\n",
       "      <td>[RACK AND PINION MANUAL]</td>\n",
       "    </tr>\n",
       "    <tr>\n",
       "      <th>7</th>\n",
       "      <td>9</td>\n",
       "      <td>[COIL]</td>\n",
       "    </tr>\n",
       "    <tr>\n",
       "      <th>8</th>\n",
       "      <td>10</td>\n",
       "      <td>[WATER PUMP]</td>\n",
       "    </tr>\n",
       "    <tr>\n",
       "      <th>9</th>\n",
       "      <td>11</td>\n",
       "      <td>[THROTTLE BODY, COIL, STARTER]</td>\n",
       "    </tr>\n",
       "    <tr>\n",
       "      <th>10</th>\n",
       "      <td>12</td>\n",
       "      <td>[SPOILER, INSTRUMENT LENS]</td>\n",
       "    </tr>\n",
       "    <tr>\n",
       "      <th>11</th>\n",
       "      <td>13</td>\n",
       "      <td>[FUEL PUMP]</td>\n",
       "    </tr>\n",
       "    <tr>\n",
       "      <th>12</th>\n",
       "      <td>14</td>\n",
       "      <td>[BUMPER  STEEL, GRILL ANY]</td>\n",
       "    </tr>\n",
       "    <tr>\n",
       "      <th>13</th>\n",
       "      <td>15</td>\n",
       "      <td>[HOOD, SEAT SECTION CLOTH, BRAKE SHOE/PAD (EAC...</td>\n",
       "    </tr>\n",
       "    <tr>\n",
       "      <th>14</th>\n",
       "      <td>16</td>\n",
       "      <td>[HUB CAP/WHEEL COVER]</td>\n",
       "    </tr>\n",
       "    <tr>\n",
       "      <th>15</th>\n",
       "      <td>17</td>\n",
       "      <td>[ENGINE (NO ACCESSORIES)]</td>\n",
       "    </tr>\n",
       "    <tr>\n",
       "      <th>16</th>\n",
       "      <td>18</td>\n",
       "      <td>[HEADLAMP BEZEL, HEADLAMP COMPOSITE, COMPUTER ...</td>\n",
       "    </tr>\n",
       "    <tr>\n",
       "      <th>17</th>\n",
       "      <td>19</td>\n",
       "      <td>[WATER PUMP]</td>\n",
       "    </tr>\n",
       "    <tr>\n",
       "      <th>18</th>\n",
       "      <td>20</td>\n",
       "      <td>[TRANSFER CASE, TIE ROD END]</td>\n",
       "    </tr>\n",
       "    <tr>\n",
       "      <th>19</th>\n",
       "      <td>21</td>\n",
       "      <td>[LATCH]</td>\n",
       "    </tr>\n",
       "  </tbody>\n",
       "</table>\n",
       "</div>"
      ]
     },
     "execution_count": 5,
     "metadata": {},
     "output_type": "execute_result"
    }
   ],
   "execution_count": 5
  },
  {
   "metadata": {
    "ExecuteTime": {
     "end_time": "2024-08-06T05:32:54.655486Z",
     "start_time": "2024-08-06T05:32:54.593468Z"
    }
   },
   "cell_type": "code",
   "source": [
    "# Sorting each list of part names and converting to a tuple\n",
    "grouped_df['SortedPartNames'] = grouped_df['PartNames'].apply(lambda x: tuple(sorted(x)))\n",
    "\n",
    "# Group by the sorted part names and count the occurrences\n",
    "count_df = grouped_df.groupby('SortedPartNames').size().reset_index(name='Count')\n",
    "\n",
    "# Renaming the columns for clarity\n",
    "count_df.columns = ['TransactionLists', 'Count']"
   ],
   "id": "f29311101a487863",
   "outputs": [],
   "execution_count": 6
  },
  {
   "metadata": {
    "ExecuteTime": {
     "end_time": "2024-08-06T05:32:54.671501Z",
     "start_time": "2024-08-06T05:32:54.656467Z"
    }
   },
   "cell_type": "code",
   "source": "filtered_count_df = count_df[count_df['TransactionLists'].apply(lambda x: len(x) >= 2)]",
   "id": "e349cbb5a5b8a7af",
   "outputs": [],
   "execution_count": 7
  },
  {
   "metadata": {
    "ExecuteTime": {
     "end_time": "2024-08-06T05:32:54.687032Z",
     "start_time": "2024-08-06T05:32:54.672473Z"
    }
   },
   "cell_type": "code",
   "source": "filtered_count_df.nlargest(500, 'Count').to_csv('POS_Transactions_Count.csv', index=False)",
   "id": "9d3a858249e9c54a",
   "outputs": [],
   "execution_count": 8
  },
  {
   "metadata": {},
   "cell_type": "markdown",
   "source": "This section performs the analysis of how often each item appears in a transaction with each other item.",
   "id": "1a1e851b472add3d"
  },
  {
   "metadata": {
    "ExecuteTime": {
     "end_time": "2024-08-06T05:32:54.796628Z",
     "start_time": "2024-08-06T05:32:54.688016Z"
    }
   },
   "cell_type": "code",
   "source": [
    "from itertools import combinations\n",
    "import pandas as pd\n",
    "transactions = grouped_df[\"PartNames\"]\n",
    "unique_parts = set(part for sublist in transactions for part in sublist)\n",
    "\n",
    "combs = list(combinations(unique_parts, 2))\n",
    "\n",
    "comb_counts = {comb: 0 for comb in combs}\n",
    "\n",
    "for transaction in transactions:\n",
    "    for comb in combinations(transaction, 2):\n",
    "        if comb in comb_counts:\n",
    "            comb_counts[comb] += 1\n",
    "        elif (comb[1], comb[0]) in comb_counts:\n",
    "            comb_counts[(comb[1], comb[0])] += 1\n",
    "            \n",
    "comb_df = pd.DataFrame(list(comb_counts.items()), columns=['Combination', 'Count'])\n"
   ],
   "id": "66c9ce4b15ecf476",
   "outputs": [],
   "execution_count": 9
  },
  {
   "metadata": {
    "ExecuteTime": {
     "end_time": "2024-08-06T05:32:54.906505Z",
     "start_time": "2024-08-06T05:32:54.797636Z"
    }
   },
   "cell_type": "code",
   "source": [
    "comb_df['Count'] = comb_df['Count'].astype(int) # make sure these are integers so they can be properly sorted\n",
    "comb_df.to_csv('POS_Transactions_Combinations.csv', index=False)"
   ],
   "id": "a372acce2bc86ab8",
   "outputs": [],
   "execution_count": 10
  }
 ],
 "metadata": {
  "kernelspec": {
   "display_name": "Python 3",
   "language": "python",
   "name": "python3"
  },
  "language_info": {
   "codemirror_mode": {
    "name": "ipython",
    "version": 2
   },
   "file_extension": ".py",
   "mimetype": "text/x-python",
   "name": "python",
   "nbconvert_exporter": "python",
   "pygments_lexer": "ipython2",
   "version": "2.7.6"
  }
 },
 "nbformat": 4,
 "nbformat_minor": 5
}
