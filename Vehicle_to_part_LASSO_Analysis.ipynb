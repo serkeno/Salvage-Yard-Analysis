{
 "cells": [
  {
   "cell_type": "code",
   "id": "initial_id",
   "metadata": {
    "collapsed": true,
    "ExecuteTime": {
     "end_time": "2024-07-24T22:22:32.198061Z",
     "start_time": "2024-07-24T22:22:32.185092Z"
    }
   },
   "source": [
    "import pandas as pd\n",
    "from sklearn.model_selection import train_test_split\n",
    "from sklearn.linear_model import Lasso\n",
    "from sklearn.model_selection import GridSearchCV\n",
    "from sklearn.preprocessing import StandardScaler\n",
    "import DataframeBuilder"
   ],
   "outputs": [],
   "execution_count": 110
  },
  {
   "metadata": {
    "ExecuteTime": {
     "end_time": "2024-07-24T22:22:32.213083Z",
     "start_time": "2024-07-24T22:22:32.200077Z"
    }
   },
   "cell_type": "code",
   "source": [
    "target_type = \"TotalPrice\"\n",
    "presence_type = \"continuous\"\n",
    "quantile_threshold = 0.1 # Controls the proportion of the lowest popularity vehicle types to be dropped\n",
    "imputation_multiplier = 2 # Controls the number of times the dataframe records are duplicated"
   ],
   "id": "ce54772f832a85e7",
   "outputs": [],
   "execution_count": 111
  },
  {
   "metadata": {
    "ExecuteTime": {
     "end_time": "2024-07-24T22:23:42.101257Z",
     "start_time": "2024-07-24T22:22:32.214582Z"
    }
   },
   "cell_type": "code",
   "source": [
    "vehicle_presence_df = DataframeBuilder.vehicle_presence(presence_type=presence_type, vehicle_type=\"year_model\", target_type=target_type)\n",
    "\n",
    "# Create additional records based on the imputation multiplier\n",
    "vehicle_presence_df = pd.concat([vehicle_presence_df] * imputation_multiplier, ignore_index=True)\n",
    "\n",
    "if presence_type == \"continuous\":\n",
    "    \n",
    "  \n",
    "    if 'TotalPrice' in vehicle_presence_df.columns:\n",
    "        sums = vehicle_presence_df.drop(columns=['TotalPrice', 'Date']).sum()\n",
    "        \n",
    "    elif 'TotalPartsSold' in vehicle_presence_df.columns:\n",
    "        sums = vehicle_presence_df.drop(columns=['TotalPartsSold', 'Date']).sum()\n",
    "    \n",
    "    \n",
    "    try:\n",
    "        # Determine the threshold for the bottom x% of sums\n",
    "        threshold = sums.quantile(quantile_threshold)\n",
    "    \n",
    "\n",
    "        # Find columns to drop\n",
    "        cols_to_drop = sums[sums <= threshold].index.tolist()\n",
    "\n",
    "        # Drop columns from the dataframe\n",
    "        vehicle_presence_df = vehicle_presence_df.drop(columns=cols_to_drop)\n",
    "        \n",
    "    except ValueError:\n",
    "        print(\"Sums not found, TotalPrice and TotalPartsSold are not available in vehicle_presence_df.\")"
   ],
   "id": "8285af8f27f3271b",
   "outputs": [],
   "execution_count": 112
  },
  {
   "metadata": {
    "ExecuteTime": {
     "end_time": "2024-07-24T22:23:42.117272Z",
     "start_time": "2024-07-24T22:23:42.102238Z"
    }
   },
   "cell_type": "code",
   "source": "vehicle_presence_df.columns = vehicle_presence_df.columns.astype(str)",
   "id": "964fd3a5f8b60b52",
   "outputs": [],
   "execution_count": 113
  },
  {
   "metadata": {
    "ExecuteTime": {
     "end_time": "2024-07-24T22:23:42.292311Z",
     "start_time": "2024-07-24T22:23:42.118274Z"
    }
   },
   "cell_type": "code",
   "source": [
    "# Create the machine learning model steps here, including training and testing LR\n",
    "# Separating features and target\n",
    "X = vehicle_presence_df.drop(columns=[target_type, 'Date'])\n",
    "y = vehicle_presence_df[target_type]\n",
    "\n",
    "# Normalize the features\n",
    "scaler = StandardScaler()\n",
    "X_scaled = scaler.fit_transform(X)"
   ],
   "id": "cb5405f3d989a526",
   "outputs": [],
   "execution_count": 114
  },
  {
   "metadata": {
    "ExecuteTime": {
     "end_time": "2024-07-24T22:24:39.452776Z",
     "start_time": "2024-07-24T22:23:42.293296Z"
    }
   },
   "cell_type": "code",
   "source": [
    "# Split the data for training and testing\n",
    "X_train, X_test, y_train, y_test = train_test_split(X_scaled, y, test_size=0.2, random_state=42)\n",
    "\n",
    "# Initialize and fit the Lasso regression model\n",
    "lasso = Lasso()\n",
    "\n",
    "\n",
    "# Define the parameter grid\n",
    "param_grid = {'alpha': [1e-2, 1e-1, 1, 10, 100]}\n",
    "\n",
    "# Use GridSearchCV for tuning\n",
    "grid_search = GridSearchCV(estimator=lasso, param_grid=param_grid, cv=5, scoring='neg_mean_absolute_percentage_error', return_train_score=True)\n",
    "grid_search.fit(X_train, y_train)\n",
    "\n",
    "# Get the results\n",
    "results = grid_search.cv_results_\n",
    "\n",
    "# Create a DataFrame to display results\n",
    "results_df = pd.DataFrame({\n",
    "    'alpha': results['param_alpha'],\n",
    "    'mean_test_score': results['mean_test_score'],\n",
    "    'std_test_score': results['std_test_score']\n",
    "})\n",
    "\n",
    "print(results_df)"
   ],
   "id": "b1e83c6abf3f0339",
   "outputs": [
    {
     "name": "stderr",
     "output_type": "stream",
     "text": [
      "C:\\Users\\aljo9\\PycharmProjects\\NV_Picapart_Analysis\\.venv\\lib\\site-packages\\sklearn\\linear_model\\_coordinate_descent.py:697: ConvergenceWarning: Objective did not converge. You might want to increase the number of iterations, check the scale of the features or consider increasing regularisation. Duality gap: 1.220e+06, tolerance: 1.005e+05\n",
      "  model = cd_fast.enet_coordinate_descent(\n",
      "C:\\Users\\aljo9\\PycharmProjects\\NV_Picapart_Analysis\\.venv\\lib\\site-packages\\sklearn\\linear_model\\_coordinate_descent.py:697: ConvergenceWarning: Objective did not converge. You might want to increase the number of iterations, check the scale of the features or consider increasing regularisation. Duality gap: 1.244e+06, tolerance: 9.480e+04\n",
      "  model = cd_fast.enet_coordinate_descent(\n",
      "C:\\Users\\aljo9\\PycharmProjects\\NV_Picapart_Analysis\\.venv\\lib\\site-packages\\sklearn\\linear_model\\_coordinate_descent.py:697: ConvergenceWarning: Objective did not converge. You might want to increase the number of iterations, check the scale of the features or consider increasing regularisation. Duality gap: 1.114e+06, tolerance: 9.908e+04\n",
      "  model = cd_fast.enet_coordinate_descent(\n",
      "C:\\Users\\aljo9\\PycharmProjects\\NV_Picapart_Analysis\\.venv\\lib\\site-packages\\sklearn\\linear_model\\_coordinate_descent.py:697: ConvergenceWarning: Objective did not converge. You might want to increase the number of iterations, check the scale of the features or consider increasing regularisation. Duality gap: 1.212e+06, tolerance: 9.754e+04\n",
      "  model = cd_fast.enet_coordinate_descent(\n",
      "C:\\Users\\aljo9\\PycharmProjects\\NV_Picapart_Analysis\\.venv\\lib\\site-packages\\sklearn\\linear_model\\_coordinate_descent.py:697: ConvergenceWarning: Objective did not converge. You might want to increase the number of iterations, check the scale of the features or consider increasing regularisation. Duality gap: 1.253e+06, tolerance: 1.027e+05\n",
      "  model = cd_fast.enet_coordinate_descent(\n",
      "C:\\Users\\aljo9\\PycharmProjects\\NV_Picapart_Analysis\\.venv\\lib\\site-packages\\sklearn\\linear_model\\_coordinate_descent.py:697: ConvergenceWarning: Objective did not converge. You might want to increase the number of iterations, check the scale of the features or consider increasing regularisation. Duality gap: 5.413e+06, tolerance: 1.005e+05\n",
      "  model = cd_fast.enet_coordinate_descent(\n",
      "C:\\Users\\aljo9\\PycharmProjects\\NV_Picapart_Analysis\\.venv\\lib\\site-packages\\sklearn\\linear_model\\_coordinate_descent.py:697: ConvergenceWarning: Objective did not converge. You might want to increase the number of iterations, check the scale of the features or consider increasing regularisation. Duality gap: 5.723e+06, tolerance: 9.480e+04\n",
      "  model = cd_fast.enet_coordinate_descent(\n",
      "C:\\Users\\aljo9\\PycharmProjects\\NV_Picapart_Analysis\\.venv\\lib\\site-packages\\sklearn\\linear_model\\_coordinate_descent.py:697: ConvergenceWarning: Objective did not converge. You might want to increase the number of iterations, check the scale of the features or consider increasing regularisation. Duality gap: 5.520e+06, tolerance: 9.908e+04\n",
      "  model = cd_fast.enet_coordinate_descent(\n",
      "C:\\Users\\aljo9\\PycharmProjects\\NV_Picapart_Analysis\\.venv\\lib\\site-packages\\sklearn\\linear_model\\_coordinate_descent.py:697: ConvergenceWarning: Objective did not converge. You might want to increase the number of iterations, check the scale of the features or consider increasing regularisation. Duality gap: 6.023e+06, tolerance: 9.754e+04\n",
      "  model = cd_fast.enet_coordinate_descent(\n",
      "C:\\Users\\aljo9\\PycharmProjects\\NV_Picapart_Analysis\\.venv\\lib\\site-packages\\sklearn\\linear_model\\_coordinate_descent.py:697: ConvergenceWarning: Objective did not converge. You might want to increase the number of iterations, check the scale of the features or consider increasing regularisation. Duality gap: 5.777e+06, tolerance: 1.027e+05\n",
      "  model = cd_fast.enet_coordinate_descent(\n",
      "C:\\Users\\aljo9\\PycharmProjects\\NV_Picapart_Analysis\\.venv\\lib\\site-packages\\sklearn\\linear_model\\_coordinate_descent.py:697: ConvergenceWarning: Objective did not converge. You might want to increase the number of iterations, check the scale of the features or consider increasing regularisation. Duality gap: 1.436e+07, tolerance: 1.005e+05\n",
      "  model = cd_fast.enet_coordinate_descent(\n",
      "C:\\Users\\aljo9\\PycharmProjects\\NV_Picapart_Analysis\\.venv\\lib\\site-packages\\sklearn\\linear_model\\_coordinate_descent.py:697: ConvergenceWarning: Objective did not converge. You might want to increase the number of iterations, check the scale of the features or consider increasing regularisation. Duality gap: 1.777e+07, tolerance: 9.480e+04\n",
      "  model = cd_fast.enet_coordinate_descent(\n",
      "C:\\Users\\aljo9\\PycharmProjects\\NV_Picapart_Analysis\\.venv\\lib\\site-packages\\sklearn\\linear_model\\_coordinate_descent.py:697: ConvergenceWarning: Objective did not converge. You might want to increase the number of iterations, check the scale of the features or consider increasing regularisation. Duality gap: 1.128e+07, tolerance: 9.908e+04\n",
      "  model = cd_fast.enet_coordinate_descent(\n",
      "C:\\Users\\aljo9\\PycharmProjects\\NV_Picapart_Analysis\\.venv\\lib\\site-packages\\sklearn\\linear_model\\_coordinate_descent.py:697: ConvergenceWarning: Objective did not converge. You might want to increase the number of iterations, check the scale of the features or consider increasing regularisation. Duality gap: 1.539e+07, tolerance: 9.754e+04\n",
      "  model = cd_fast.enet_coordinate_descent(\n",
      "C:\\Users\\aljo9\\PycharmProjects\\NV_Picapart_Analysis\\.venv\\lib\\site-packages\\sklearn\\linear_model\\_coordinate_descent.py:697: ConvergenceWarning: Objective did not converge. You might want to increase the number of iterations, check the scale of the features or consider increasing regularisation. Duality gap: 1.522e+07, tolerance: 1.027e+05\n",
      "  model = cd_fast.enet_coordinate_descent(\n"
     ]
    },
    {
     "name": "stdout",
     "output_type": "stream",
     "text": [
      "    alpha  mean_test_score  std_test_score\n",
      "0    0.01        -0.242889        0.157863\n",
      "1    0.10        -0.248137        0.179086\n",
      "2    1.00        -0.299630        0.163711\n",
      "3   10.00        -0.415063        0.170768\n",
      "4  100.00        -0.477515        0.166778\n"
     ]
    },
    {
     "name": "stderr",
     "output_type": "stream",
     "text": [
      "C:\\Users\\aljo9\\PycharmProjects\\NV_Picapart_Analysis\\.venv\\lib\\site-packages\\sklearn\\linear_model\\_coordinate_descent.py:697: ConvergenceWarning: Objective did not converge. You might want to increase the number of iterations, check the scale of the features or consider increasing regularisation. Duality gap: 1.650e+06, tolerance: 1.237e+05\n",
      "  model = cd_fast.enet_coordinate_descent(\n"
     ]
    }
   ],
   "execution_count": 115
  }
 ],
 "metadata": {
  "kernelspec": {
   "display_name": "Python 3",
   "language": "python",
   "name": "python3"
  },
  "language_info": {
   "codemirror_mode": {
    "name": "ipython",
    "version": 2
   },
   "file_extension": ".py",
   "mimetype": "text/x-python",
   "name": "python",
   "nbconvert_exporter": "python",
   "pygments_lexer": "ipython2",
   "version": "2.7.6"
  }
 },
 "nbformat": 4,
 "nbformat_minor": 5
}
