{
 "cells": [
  {
   "cell_type": "code",
   "id": "initial_id",
   "metadata": {
    "collapsed": true,
    "ExecuteTime": {
     "end_time": "2024-07-20T17:02:08.877305Z",
     "start_time": "2024-07-20T17:02:08.858287Z"
    }
   },
   "source": [
    "import pandas as pd\n",
    "import numpy as np\n",
    "from sklearn.model_selection import train_test_split, cross_val_score\n",
    "from sklearn.linear_model import Lasso\n",
    "from sklearn.preprocessing import StandardScaler\n",
    "import DataframeBuilder"
   ],
   "outputs": [],
   "execution_count": 9
  },
  {
   "metadata": {},
   "cell_type": "code",
   "outputs": [],
   "execution_count": null,
   "source": [
    "target_type = \"TotalPrice\"\n",
    "presence_type = \"binary\""
   ],
   "id": "ce54772f832a85e7"
  },
  {
   "metadata": {
    "ExecuteTime": {
     "end_time": "2024-07-20T17:02:54.879621Z",
     "start_time": "2024-07-20T17:02:08.879285Z"
    }
   },
   "cell_type": "code",
   "source": "vehicle_presence_df = DataframeBuilder.vehicle_presence(presence_type=presence_type, vehicle_type=\"year_model\", target_type=target_type)\n",
   "id": "8285af8f27f3271b",
   "outputs": [],
   "execution_count": 10
  },
  {
   "metadata": {
    "ExecuteTime": {
     "end_time": "2024-07-20T17:02:54.910292Z",
     "start_time": "2024-07-20T17:02:54.897158Z"
    }
   },
   "cell_type": "code",
   "source": "vehicle_presence_df.columns = vehicle_presence_df.columns.astype(str)",
   "id": "964fd3a5f8b60b52",
   "outputs": [],
   "execution_count": 12
  },
  {
   "metadata": {
    "ExecuteTime": {
     "end_time": "2024-07-20T17:02:55.035161Z",
     "start_time": "2024-07-20T17:02:54.913296Z"
    }
   },
   "cell_type": "code",
   "source": [
    "# Create the machine learning model steps here, including training and testing LR\n",
    "# Separating features and target\n",
    "X = vehicle_presence_df.drop(columns=[target_type, 'Date'])\n",
    "y = vehicle_presence_df[target_type]\n",
    "\n",
    "# Normalize the features\n",
    "scaler = StandardScaler()\n",
    "X_scaled = scaler.fit_transform(X)"
   ],
   "id": "cb5405f3d989a526",
   "outputs": [],
   "execution_count": 13
  },
  {
   "metadata": {
    "ExecuteTime": {
     "end_time": "2024-07-20T17:03:49.181185Z",
     "start_time": "2024-07-20T17:02:55.036137Z"
    }
   },
   "cell_type": "code",
   "source": [
    "# Split the data for training and testing\n",
    "X_train, X_test, y_train, y_test = train_test_split(X_scaled, y, test_size=0.2, random_state=42)\n",
    "\n",
    "# Initialize and fit the Lasso regression model\n",
    "lasso = Lasso(alpha=1)  # You may need to adjust alpha based on your data\n",
    "lasso.fit(X_train, y_train)\n",
    "\n",
    "# Evaluate the model using cross-validation\n",
    "cv_scores = cross_val_score(lasso, X_scaled, y, cv=20)\n",
    "print(\"Cross-validated scores:\", cv_scores)\n",
    "print(\"Average CV score:\", np.mean(cv_scores))\n",
    "print(\"Standard deviation of CV scores:\", np.std(cv_scores))"
   ],
   "id": "b1e83c6abf3f0339",
   "outputs": [
    {
     "name": "stderr",
     "output_type": "stream",
     "text": [
      "C:\\Users\\aljo9\\PycharmProjects\\NV_Picapart_Analysis\\.venv\\lib\\site-packages\\sklearn\\linear_model\\_coordinate_descent.py:697: ConvergenceWarning: Objective did not converge. You might want to increase the number of iterations, check the scale of the features or consider increasing regularisation. Duality gap: 8.661e+06, tolerance: 6.061e+04\n",
      "  model = cd_fast.enet_coordinate_descent(\n",
      "C:\\Users\\aljo9\\PycharmProjects\\NV_Picapart_Analysis\\.venv\\lib\\site-packages\\sklearn\\linear_model\\_coordinate_descent.py:697: ConvergenceWarning: Objective did not converge. You might want to increase the number of iterations, check the scale of the features or consider increasing regularisation. Duality gap: 1.161e+07, tolerance: 6.989e+04\n",
      "  model = cd_fast.enet_coordinate_descent(\n",
      "C:\\Users\\aljo9\\PycharmProjects\\NV_Picapart_Analysis\\.venv\\lib\\site-packages\\sklearn\\linear_model\\_coordinate_descent.py:697: ConvergenceWarning: Objective did not converge. You might want to increase the number of iterations, check the scale of the features or consider increasing regularisation. Duality gap: 1.028e+07, tolerance: 7.126e+04\n",
      "  model = cd_fast.enet_coordinate_descent(\n",
      "C:\\Users\\aljo9\\PycharmProjects\\NV_Picapart_Analysis\\.venv\\lib\\site-packages\\sklearn\\linear_model\\_coordinate_descent.py:697: ConvergenceWarning: Objective did not converge. You might want to increase the number of iterations, check the scale of the features or consider increasing regularisation. Duality gap: 1.053e+07, tolerance: 7.270e+04\n",
      "  model = cd_fast.enet_coordinate_descent(\n",
      "C:\\Users\\aljo9\\PycharmProjects\\NV_Picapart_Analysis\\.venv\\lib\\site-packages\\sklearn\\linear_model\\_coordinate_descent.py:697: ConvergenceWarning: Objective did not converge. You might want to increase the number of iterations, check the scale of the features or consider increasing regularisation. Duality gap: 1.015e+07, tolerance: 7.414e+04\n",
      "  model = cd_fast.enet_coordinate_descent(\n",
      "C:\\Users\\aljo9\\PycharmProjects\\NV_Picapart_Analysis\\.venv\\lib\\site-packages\\sklearn\\linear_model\\_coordinate_descent.py:697: ConvergenceWarning: Objective did not converge. You might want to increase the number of iterations, check the scale of the features or consider increasing regularisation. Duality gap: 1.034e+07, tolerance: 7.506e+04\n",
      "  model = cd_fast.enet_coordinate_descent(\n",
      "C:\\Users\\aljo9\\PycharmProjects\\NV_Picapart_Analysis\\.venv\\lib\\site-packages\\sklearn\\linear_model\\_coordinate_descent.py:697: ConvergenceWarning: Objective did not converge. You might want to increase the number of iterations, check the scale of the features or consider increasing regularisation. Duality gap: 1.138e+07, tolerance: 7.461e+04\n",
      "  model = cd_fast.enet_coordinate_descent(\n",
      "C:\\Users\\aljo9\\PycharmProjects\\NV_Picapart_Analysis\\.venv\\lib\\site-packages\\sklearn\\linear_model\\_coordinate_descent.py:697: ConvergenceWarning: Objective did not converge. You might want to increase the number of iterations, check the scale of the features or consider increasing regularisation. Duality gap: 9.467e+06, tolerance: 7.515e+04\n",
      "  model = cd_fast.enet_coordinate_descent(\n",
      "C:\\Users\\aljo9\\PycharmProjects\\NV_Picapart_Analysis\\.venv\\lib\\site-packages\\sklearn\\linear_model\\_coordinate_descent.py:697: ConvergenceWarning: Objective did not converge. You might want to increase the number of iterations, check the scale of the features or consider increasing regularisation. Duality gap: 1.252e+07, tolerance: 7.459e+04\n",
      "  model = cd_fast.enet_coordinate_descent(\n",
      "C:\\Users\\aljo9\\PycharmProjects\\NV_Picapart_Analysis\\.venv\\lib\\site-packages\\sklearn\\linear_model\\_coordinate_descent.py:697: ConvergenceWarning: Objective did not converge. You might want to increase the number of iterations, check the scale of the features or consider increasing regularisation. Duality gap: 1.151e+07, tolerance: 7.482e+04\n",
      "  model = cd_fast.enet_coordinate_descent(\n",
      "C:\\Users\\aljo9\\PycharmProjects\\NV_Picapart_Analysis\\.venv\\lib\\site-packages\\sklearn\\linear_model\\_coordinate_descent.py:697: ConvergenceWarning: Objective did not converge. You might want to increase the number of iterations, check the scale of the features or consider increasing regularisation. Duality gap: 9.389e+06, tolerance: 7.547e+04\n",
      "  model = cd_fast.enet_coordinate_descent(\n",
      "C:\\Users\\aljo9\\PycharmProjects\\NV_Picapart_Analysis\\.venv\\lib\\site-packages\\sklearn\\linear_model\\_coordinate_descent.py:697: ConvergenceWarning: Objective did not converge. You might want to increase the number of iterations, check the scale of the features or consider increasing regularisation. Duality gap: 9.717e+06, tolerance: 7.472e+04\n",
      "  model = cd_fast.enet_coordinate_descent(\n",
      "C:\\Users\\aljo9\\PycharmProjects\\NV_Picapart_Analysis\\.venv\\lib\\site-packages\\sklearn\\linear_model\\_coordinate_descent.py:697: ConvergenceWarning: Objective did not converge. You might want to increase the number of iterations, check the scale of the features or consider increasing regularisation. Duality gap: 9.527e+06, tolerance: 7.458e+04\n",
      "  model = cd_fast.enet_coordinate_descent(\n",
      "C:\\Users\\aljo9\\PycharmProjects\\NV_Picapart_Analysis\\.venv\\lib\\site-packages\\sklearn\\linear_model\\_coordinate_descent.py:697: ConvergenceWarning: Objective did not converge. You might want to increase the number of iterations, check the scale of the features or consider increasing regularisation. Duality gap: 1.049e+07, tolerance: 7.311e+04\n",
      "  model = cd_fast.enet_coordinate_descent(\n",
      "C:\\Users\\aljo9\\PycharmProjects\\NV_Picapart_Analysis\\.venv\\lib\\site-packages\\sklearn\\linear_model\\_coordinate_descent.py:697: ConvergenceWarning: Objective did not converge. You might want to increase the number of iterations, check the scale of the features or consider increasing regularisation. Duality gap: 1.033e+07, tolerance: 7.420e+04\n",
      "  model = cd_fast.enet_coordinate_descent(\n",
      "C:\\Users\\aljo9\\PycharmProjects\\NV_Picapart_Analysis\\.venv\\lib\\site-packages\\sklearn\\linear_model\\_coordinate_descent.py:697: ConvergenceWarning: Objective did not converge. You might want to increase the number of iterations, check the scale of the features or consider increasing regularisation. Duality gap: 1.038e+07, tolerance: 7.348e+04\n",
      "  model = cd_fast.enet_coordinate_descent(\n",
      "C:\\Users\\aljo9\\PycharmProjects\\NV_Picapart_Analysis\\.venv\\lib\\site-packages\\sklearn\\linear_model\\_coordinate_descent.py:697: ConvergenceWarning: Objective did not converge. You might want to increase the number of iterations, check the scale of the features or consider increasing regularisation. Duality gap: 8.895e+06, tolerance: 7.319e+04\n",
      "  model = cd_fast.enet_coordinate_descent(\n",
      "C:\\Users\\aljo9\\PycharmProjects\\NV_Picapart_Analysis\\.venv\\lib\\site-packages\\sklearn\\linear_model\\_coordinate_descent.py:697: ConvergenceWarning: Objective did not converge. You might want to increase the number of iterations, check the scale of the features or consider increasing regularisation. Duality gap: 1.000e+07, tolerance: 7.184e+04\n",
      "  model = cd_fast.enet_coordinate_descent(\n",
      "C:\\Users\\aljo9\\PycharmProjects\\NV_Picapart_Analysis\\.venv\\lib\\site-packages\\sklearn\\linear_model\\_coordinate_descent.py:697: ConvergenceWarning: Objective did not converge. You might want to increase the number of iterations, check the scale of the features or consider increasing regularisation. Duality gap: 7.792e+06, tolerance: 6.984e+04\n",
      "  model = cd_fast.enet_coordinate_descent(\n",
      "C:\\Users\\aljo9\\PycharmProjects\\NV_Picapart_Analysis\\.venv\\lib\\site-packages\\sklearn\\linear_model\\_coordinate_descent.py:697: ConvergenceWarning: Objective did not converge. You might want to increase the number of iterations, check the scale of the features or consider increasing regularisation. Duality gap: 8.388e+06, tolerance: 6.368e+04\n",
      "  model = cd_fast.enet_coordinate_descent(\n"
     ]
    },
    {
     "name": "stdout",
     "output_type": "stream",
     "text": [
      "Cross-validated scores: [-21.75981486 -12.12912285 -10.16996122  -4.51964993  -6.65661857\n",
      "  -1.19621113  -6.73108903 -29.82100379 -12.47261455  -1.17815772\n",
      "  -7.53551939  -2.55454559  -5.94179039 -13.91044035  -1.16734162\n",
      "  -1.05882266  -2.05846203  -1.78757196  -3.03578958 -35.93924442]\n",
      "Average CV score: -9.081188581602635\n",
      "Standard deviation of CV scores: 9.579334621019031\n"
     ]
    },
    {
     "name": "stderr",
     "output_type": "stream",
     "text": [
      "C:\\Users\\aljo9\\PycharmProjects\\NV_Picapart_Analysis\\.venv\\lib\\site-packages\\sklearn\\linear_model\\_coordinate_descent.py:697: ConvergenceWarning: Objective did not converge. You might want to increase the number of iterations, check the scale of the features or consider increasing regularisation. Duality gap: 1.148e+07, tolerance: 6.554e+04\n",
      "  model = cd_fast.enet_coordinate_descent(\n"
     ]
    }
   ],
   "execution_count": 14
  },
  {
   "metadata": {
    "ExecuteTime": {
     "end_time": "2024-07-20T17:03:49.197028Z",
     "start_time": "2024-07-20T17:03:49.183213Z"
    }
   },
   "cell_type": "code",
   "source": [
    "# Get the coefficients from the Lasso model\n",
    "coef = lasso.coef_\n",
    "\n",
    "# Create a DataFrame for feature importance\n",
    "feature_importance = pd.DataFrame({'feature': X.columns, 'importance': coef})\n",
    "feature_importance = feature_importance.sort_values(by='importance', ascending=False)\n",
    "\n",
    "# Display the top features\n",
    "print(feature_importance.head(10))"
   ],
   "id": "4ea64e0f97409bfa",
   "outputs": [
    {
     "name": "stdout",
     "output_type": "stream",
     "text": [
      "                    feature  importance\n",
      "5775             2016.0_XTS  307.761281\n",
      "5945  2016.0_GRAND CHEROKEE  277.730753\n",
      "3597         2007.0_IMPREZA  244.738149\n",
      "5124           2014.0_SONIC  233.112011\n",
      "5583        1996.0_CORVETTE  216.409869\n",
      "5882         2012.0_LIBERTY  205.578524\n",
      "5591             2019.0_TLX  193.097998\n",
      "1666         2003.0_C-CLASS  185.560289\n",
      "5087   2011.0_FUSION HYBRID  180.021232\n",
      "220         1999.0_SUBURBAN  177.672439\n"
     ]
    }
   ],
   "execution_count": 15
  }
 ],
 "metadata": {
  "kernelspec": {
   "display_name": "Python 3",
   "language": "python",
   "name": "python3"
  },
  "language_info": {
   "codemirror_mode": {
    "name": "ipython",
    "version": 2
   },
   "file_extension": ".py",
   "mimetype": "text/x-python",
   "name": "python",
   "nbconvert_exporter": "python",
   "pygments_lexer": "ipython2",
   "version": "2.7.6"
  }
 },
 "nbformat": 4,
 "nbformat_minor": 5
}
